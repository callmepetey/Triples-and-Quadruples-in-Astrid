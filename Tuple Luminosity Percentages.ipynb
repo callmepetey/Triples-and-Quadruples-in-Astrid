{
 "cells": [
  {
   "cell_type": "markdown",
   "metadata": {},
   "source": [
    "# Tuple Luminosity Percentages"
   ]
  },
  {
   "cell_type": "code",
   "execution_count": 1,
   "metadata": {},
   "outputs": [
    {
     "name": "stdout",
     "output_type": "stream",
     "text": [
      "importing Jupyter notebook from Tuples Information.ipynb\n"
     ]
    }
   ],
   "source": [
    "import numpy as np\n",
    "import matplotlib\n",
    "import matplotlib.pyplot as plt\n",
    "from matplotlib import colors\n",
    "# you need to install BigFile\n",
    "from bigfile import BigFile\n",
    "import glob,os,struct\n",
    "# from astropy.cosmology import FlatLambdaCDM\n",
    "import astropy.units as u\n",
    "from scipy.interpolate import interp1d\n",
    "from colossus.cosmology import cosmology\n",
    "\n",
    "import seaborn as sns\n",
    "\n",
    "import plotly.express as px\n",
    "import pandas as pd\n",
    "\n",
    "sns.set()\n",
    "sns.set_palette(\"Set2\")\n",
    "sns.set_style('ticks',{'ytick.direction':'in','xtick.direction':'in'})\n",
    "\n",
    "cmap = plt.get_cmap(\"Set2\")\n",
    "sns.set_context(\"paper\", font_scale=1.7,rc={\"axes.linewidth\": 1.3,\"lines.linewidth\": 2.5,\"patch.linewidth\": 2.2})\n",
    "from matplotlib import rcParams as rc\n",
    "import pickle\n",
    "import warnings\n",
    "\n",
    "import import_ipynb\n",
    "import Tuples_Information as tuples_z2_z3"
   ]
  },
  {
   "cell_type": "code",
   "execution_count": 2,
   "metadata": {},
   "outputs": [],
   "source": [
    "warnings.filterwarnings(action='ignore', message='Mean of empty slice')\n",
    "warnings.filterwarnings(action='ignore', message='invalid value encountered in double_scalars')"
   ]
  },
  {
   "cell_type": "code",
   "execution_count": 3,
   "metadata": {},
   "outputs": [],
   "source": [
    "# some constants and unit conversions\n",
    "msun_mks = 1.989e30\n",
    "pc_mks = 3.086e16\n",
    "grav_mks = 6.67e-11\n",
    "km_mks = 1e3\n",
    "yr_mks = 3.154e+7\n",
    "c_mks = 3e8\n",
    "\n",
    "Mpc_to_m = 3.086e+22\n",
    "m_to_Mpc = 1./Mpc_to_m\n",
    "s_to_year = 3.17098e-8\n",
    "c_Mpc_yr = c_mks*m_to_Mpc/s_to_year"
   ]
  },
  {
   "cell_type": "code",
   "execution_count": 4,
   "metadata": {},
   "outputs": [],
   "source": [
    "# These arrays are necessary for locating a BH in the detials file\n",
    "path = '/hildafs/datasets/Asterix/BH_details_dict/Read-Blackhole-Detail'\n",
    "detail = BigFile(path)\n",
    "AllIDs = detail.open('BHID')[:]\n",
    "Index = detail.open('Index')[:]"
   ]
  },
  {
   "cell_type": "code",
   "execution_count": 5,
   "metadata": {},
   "outputs": [],
   "source": [
    "c_mks = 3e8\n",
    "msun_mks = 2e30\n",
    "s_to_year = 3.17098e-8\n",
    "year_to_s = 1./s_to_year\n",
    "lsun_ergs = 3.9e33\n",
    "mdot_msun_yr = 1e10/980/1e6\n",
    "def calc_lx(mdot):\n",
    "    \"\"\"\n",
    "    input: mdot in Msun/yr\n",
    "    output: Lx in ergs\n",
    "    \"\"\"\n",
    "    lbol = 0.1*mdot*msun_mks/year_to_s*c_mks**2\n",
    "    lbol_lsun = lbol/3.9e26\n",
    "    k = 10.83*(lbol_lsun/1e10)**0.28 \\\n",
    "        + 6.08*(lbol_lsun/1e10)**(-0.02)\n",
    "    return lbol/k*1e7\n",
    "\n",
    "def calc_lbol(mdot):\n",
    "    \"\"\"\n",
    "    input: mdot in Msun/yr\n",
    "    output: Lx in ergs\n",
    "    \"\"\"\n",
    "    lbol = 0.1*mdot*msun_mks/year_to_s*c_mks**2\n",
    "    lbol_ergs = lbol*1e7\n",
    "    return lbol_ergs\n",
    "def density_to_msunpc3(a): # density in mass/len^3 unit\n",
    "    mass_msun = 1e10/hh\n",
    "    length_pc = a*1000/hh\n",
    "    rho = mass_msun/(length_pc)**3\n",
    "    return rho"
   ]
  },
  {
   "cell_type": "code",
   "execution_count": 6,
   "metadata": {},
   "outputs": [],
   "source": [
    "def get_bh_history(bhid):\n",
    "    idx = (AllIDs==bhid).nonzero()[0][0]\n",
    "    chunk = Index[idx]\n",
    "    # print('File number of the target BHs:',chunk)\n",
    "    # now load bh data\n",
    "    outdir = '/hildafs/datasets/Asterix/BH_details_dict/'\n",
    "    save = outdir+'BlackholeDetails-%04d'%chunk\n",
    "    with open(save, 'rb') as f:\n",
    "        data = pickle.load(f)\n",
    "        f.close()\n",
    "    bh = data[bhid]\n",
    "    return bh"
   ]
  },
  {
   "cell_type": "code",
   "execution_count": 7,
   "metadata": {},
   "outputs": [],
   "source": [
    "def trip_perc(bh1,bh2,bh3,zstart,zend,bins):\n",
    "    mask1 = bh1['z'] <= zstart\n",
    "    mask1 &= bh1['z'] >= zend\n",
    "    mask2 = bh2['z'] <= zstart\n",
    "    mask2 &= bh2['z'] >= zend\n",
    "    mask3 = bh3['z'] <= zstart\n",
    "    mask3 &= bh3['z'] >= zend\n",
    "    \n",
    "    bh1 = bh1[mask1]\n",
    "    bh2 = bh2[mask2]\n",
    "    bh3 = bh3[mask3]\n",
    "    \n",
    "    t_start = z_to_t(zstart)\n",
    "    t_end = z_to_t(zend)\n",
    "    # experiment with the number of samples\n",
    "    tt = np.linspace(t_start,t_end,bins)\n",
    "    zz = t_to_z(tt)\n",
    "    \n",
    "    dt = tt[1] - tt[0]\n",
    "    dz = zz[0] - zz[1]\n",
    "    \n",
    "    lum_temp = []\n",
    "    \n",
    "    for i in range(1,bins):\n",
    "        temp_mask1 = bh1['z'] <= t_to_z(tt[i - 1])\n",
    "        temp_mask1 &= bh1['z'] >= t_to_z(tt[i])\n",
    "        temp_mask2 = bh2['z'] <= t_to_z(tt[i - 1])\n",
    "        temp_mask2 &= bh2['z'] >= t_to_z(tt[i])\n",
    "        temp_mask3 = bh3['z'] <= t_to_z(tt[i - 1])\n",
    "        temp_mask3 &= bh3['z'] >= t_to_z(tt[i])\n",
    "    \n",
    "        temp_bh1 = bh1[temp_mask1]\n",
    "        temp_bh2 = bh2[temp_mask2]\n",
    "        temp_bh3 = bh3[temp_mask3]\n",
    "        \n",
    "        avg1 = calc_lx(np.mean(temp_bh1['Mdot'])*mdot_msun_yr)\n",
    "        avg2 = calc_lx(np.mean(temp_bh2['Mdot'])*mdot_msun_yr)\n",
    "        avg3 = calc_lx(np.mean(temp_bh3['Mdot'])*mdot_msun_yr)\n",
    "        \n",
    "        lum_temp.append((avg1,avg2,avg3,t_to_z(tt[i - 1]),tt[i - 1],(tt[i] - tt[i - 1])))\n",
    "\n",
    "    lum_info = np.array(lum_temp,\n",
    "                        dtype=[('BH1LumX', '<f8'), ('BH2LumX', '<f8'), ('BH3LumX', '<f8'),\n",
    "                               ('z', '<f8'), ('t', '<f8'), ('dt', '<f8')])\n",
    "    \n",
    "    lum_mask1 = lum_info['BH1LumX'] >= 10**42\n",
    "    lum_mask1 |= lum_info['BH2LumX'] >= 10**42\n",
    "    lum_mask1 |= lum_info['BH3LumX'] >= 10**42\n",
    "    \n",
    "    lum_mask2 = [((el['BH1LumX'] >= 10**42 and el['BH2LumX'] >= 10**42)\n",
    "                 or (el['BH1LumX'] >= 10**42 and el['BH3LumX'] >= 10**42)\n",
    "                 or (el['BH2LumX'] >= 10**42 and el['BH3LumX'] >= 10**42)) for el in lum_info]\n",
    "    \n",
    "    lum_mask3 = lum_info['BH1LumX'] >= 10**42\n",
    "    lum_mask3 &= lum_info['BH2LumX'] >= 10**42\n",
    "    lum_mask3 &= lum_info['BH3LumX'] >= 10**42\n",
    "    \n",
    "    time1 = np.sum(lum_info[lum_mask1]['dt'])\n",
    "    time2 = np.sum(lum_info[lum_mask2]['dt'])\n",
    "    time3 = np.sum(lum_info[lum_mask3]['dt'])\n",
    "    \n",
    "    totaltime = np.sum(lum_info['dt'])\n",
    "    \n",
    "    perc1 = 100 * time1 / totaltime\n",
    "    perc2 = 100 * time2 / totaltime\n",
    "    perc3 = 100 * time3 / totaltime\n",
    "    \n",
    "    # print(\"Percent of 1 BH's L_x >= 10**42:\",perc1)\n",
    "    # print(\"Percent of 2 BH's L_x >= 10**42:\",perc2)\n",
    "    # print(\"Percent of 3 BH's L_x >= 10**42:\",perc3)\n",
    "    \n",
    "    return(perc1,perc2,perc3,time1,time2,time3,totaltime)"
   ]
  },
  {
   "cell_type": "code",
   "execution_count": 8,
   "metadata": {},
   "outputs": [],
   "source": [
    "def quad_perc(bh1,bh2,bh3,bh4,zstart,zend,bins):\n",
    "    mask1 = bh1['z'] <= zstart\n",
    "    mask1 &= bh1['z'] >= zend\n",
    "    mask2 = bh2['z'] <= zstart\n",
    "    mask2 &= bh2['z'] >= zend\n",
    "    mask3 = bh3['z'] <= zstart\n",
    "    mask3 &= bh3['z'] >= zend\n",
    "    mask4 = bh4['z'] <= zstart\n",
    "    mask4 &= bh4['z'] >= zend\n",
    "    \n",
    "    bh1 = bh1[mask1]\n",
    "    bh2 = bh2[mask2]\n",
    "    bh3 = bh3[mask3]\n",
    "    bh4 = bh4[mask4]\n",
    "    \n",
    "    t_start = z_to_t(zstart)\n",
    "    t_end = z_to_t(zend)\n",
    "    # experiment with the number of samples\n",
    "    tt = np.linspace(t_start,t_end,bins)\n",
    "    zz = t_to_z(tt)\n",
    "    \n",
    "    dt = tt[1] - tt[0]\n",
    "    dz = zz[0] - zz[1]\n",
    "    \n",
    "    lum_temp = []\n",
    "    \n",
    "    for i in range(1,bins):\n",
    "        temp_mask1 = bh1['z'] <= t_to_z(tt[i - 1])\n",
    "        temp_mask1 &= bh1['z'] >= t_to_z(tt[i])\n",
    "        temp_mask2 = bh2['z'] <= t_to_z(tt[i - 1])\n",
    "        temp_mask2 &= bh2['z'] >= t_to_z(tt[i])\n",
    "        temp_mask3 = bh3['z'] <= t_to_z(tt[i - 1])\n",
    "        temp_mask3 &= bh3['z'] >= t_to_z(tt[i])\n",
    "        temp_mask4 = bh4['z'] <= t_to_z(tt[i - 1])\n",
    "        temp_mask4 &= bh4['z'] >= t_to_z(tt[i])\n",
    "    \n",
    "        temp_bh1 = bh1[temp_mask1]\n",
    "        temp_bh2 = bh2[temp_mask2]\n",
    "        temp_bh3 = bh3[temp_mask3]\n",
    "        temp_bh4 = bh4[temp_mask4]\n",
    "        \n",
    "        avg1 = calc_lx(np.mean(temp_bh1['Mdot'])*mdot_msun_yr)\n",
    "        avg2 = calc_lx(np.mean(temp_bh2['Mdot'])*mdot_msun_yr)\n",
    "        avg3 = calc_lx(np.mean(temp_bh3['Mdot'])*mdot_msun_yr)\n",
    "        avg4 = calc_lx(np.mean(temp_bh4['Mdot'])*mdot_msun_yr)\n",
    "        \n",
    "        lum_temp.append((avg1,avg2,avg3,avg4,t_to_z(tt[i - 1]),tt[i - 1],(tt[i] - tt[i - 1])))\n",
    "\n",
    "    lum_info = np.array(lum_temp,\n",
    "                        dtype=[('BH1LumX', '<f8'), ('BH2LumX', '<f8'), ('BH3LumX', '<f8'), ('BH4LumX', '<f8'),\n",
    "                               ('z', '<f8'), ('t', '<f8'), ('dt', '<f8')])\n",
    "    \n",
    "    lum_mask1 = lum_info['BH1LumX'] >= 10**42\n",
    "    lum_mask1 |= lum_info['BH2LumX'] >= 10**42\n",
    "    lum_mask1 |= lum_info['BH3LumX'] >= 10**42\n",
    "    lum_mask1 |= lum_info['BH4LumX'] >= 10**42\n",
    "    \n",
    "    lum_mask2 = [((el['BH1LumX'] >= 10**42 and el['BH2LumX'] >= 10**42)\n",
    "                  or (el['BH1LumX'] >= 10**42 and el['BH3LumX'] >= 10**42)\n",
    "                  or (el['BH1LumX'] >= 10**42 and el['BH4LumX'] >= 10**42)\n",
    "                  or (el['BH2LumX'] >= 10**42 and el['BH3LumX'] >= 10**42)\n",
    "                  or (el['BH2LumX'] >= 10**42 and el['BH4LumX'] >= 10**42)\n",
    "                  or (el['BH3LumX'] >= 10**42 and el['BH4LumX'] >= 10**42)) for el in lum_info]\n",
    "    \n",
    "    lum_mask3 = [((el['BH1LumX'] >= 10**42 and el['BH2LumX'] >= 10**42 and el['BH3LumX'] >= 10**42)\n",
    "                  or (el['BH1LumX'] >= 10**42 and el['BH2LumX'] >= 10**42 and el['BH4LumX'] >= 10**42)\n",
    "                  or (el['BH1LumX'] >= 10**42 and el['BH3LumX'] >= 10**42 and el['BH4LumX'] >= 10**42)\n",
    "                  or (el['BH2LumX'] >= 10**42 and el['BH3LumX'] >= 10**42 and el['BH4LumX'] >= 10**42)) for el in lum_info]\n",
    "    \n",
    "    lum_mask4 = lum_info['BH1LumX'] >= 10**42\n",
    "    lum_mask4 &= lum_info['BH2LumX'] >= 10**42\n",
    "    lum_mask4 &= lum_info['BH3LumX'] >= 10**42\n",
    "    lum_mask4 &= lum_info['BH4LumX'] >= 10**42\n",
    "    \n",
    "    time1 = np.sum(lum_info[lum_mask1]['dt'])\n",
    "    time2 = np.sum(lum_info[lum_mask2]['dt'])\n",
    "    time3 = np.sum(lum_info[lum_mask3]['dt'])\n",
    "    time4 = np.sum(lum_info[lum_mask4]['dt'])\n",
    "    \n",
    "    totaltime = np.sum(lum_info['dt'])\n",
    "    \n",
    "    perc1 = 100 * time1 / totaltime\n",
    "    perc2 = 100 * time2 / totaltime\n",
    "    perc3 = 100 * time3 / totaltime\n",
    "    perc4 = 100 * time4 / totaltime\n",
    "    \n",
    "    # print(\"Percent of 1 BH's L_x >= 10**42:\",perc1)\n",
    "    # print(\"Percent of 2 BH's L_x >= 10**42:\",perc2)\n",
    "    # print(\"Percent of 3 BH's L_x >= 10**42:\",perc3)\n",
    "    # print(\"Percent of 4 BH's L_x >= 10**42:\",perc4)\n",
    "    return (perc1,perc2,perc3,perc4,time1,time2,time3,time4,totaltime)"
   ]
  },
  {
   "cell_type": "code",
   "execution_count": 9,
   "metadata": {},
   "outputs": [],
   "source": [
    "triples_z2_dr30 = tuples_z2_z3.triples_z2_dr30\n",
    "triples_z3_dr30 = tuples_z2_z3.triples_z3_dr30\n",
    "triples_z2_dr200 = tuples_z2_z3.triples_z2_dr200\n",
    "triples_z3_dr200 = tuples_z2_z3.triples_z3_dr200\n",
    "\n",
    "quadruples_z2_dr30 = tuples_z2_z3.quadruples_z2_dr30\n",
    "quadruples_z3_dr30 = tuples_z2_z3.quadruples_z3_dr30\n",
    "quadruples_z2_dr200 = tuples_z2_z3.quadruples_z2_dr200\n",
    "quadruples_z3_dr200 = tuples_z2_z3.quadruples_z3_dr200"
   ]
  },
  {
   "cell_type": "markdown",
   "metadata": {},
   "source": [
    "## Calculating LumX Percentages for Triples"
   ]
  },
  {
   "cell_type": "markdown",
   "metadata": {},
   "source": [
    "### z = 3"
   ]
  },
  {
   "cell_type": "code",
   "execution_count": 10,
   "metadata": {},
   "outputs": [],
   "source": [
    "pig = BigFile('/hildafs/datasets/Asterix/PIG_files/PIG_214')\n",
    "battr = pig[\"Header\"].attrs\n",
    "scale_fac = battr[\"Time\"][0]\n",
    "redshift = 1./battr[\"Time\"][0] - 1\n",
    "Lbox = battr['BoxSize']\n",
    "hh = battr['HubbleParam']\n",
    "om0 = battr['Omega0']\n",
    "omb = battr['OmegaBaryon']\n",
    "oml = battr['OmegaLambda']\n",
    "Nfof = battr['NumFOFGroupsTotal']\n",
    "sigma8 = 0.82\n",
    "    \n",
    "BH_IDs = pig.open('5/ID')[:]\n",
    "lbt = pig.open('FOFGroups/LengthByType')[:]\n",
    "OffsetByType = np.cumsum(lbt,axis=0)\n",
    "a1 = np.array([[0,0,0,0,0,0]],dtype=np.uint64)\n",
    "OffsetByType = np.append(a1,OffsetByType,axis=0)\n",
    "bhoff = OffsetByType[:,5]\n",
    "\n",
    "# set-up cosmology\n",
    "params = {'flat': True, 'H0': 100*hh, 'Om0': om0, 'Ob0': omb, 'sigma8': sigma8, 'ns': 0.96}\n",
    "cosmo = cosmology.setCosmology('myCosmo', params)\n",
    "\n",
    "# conversion between time and redshift\n",
    "z_arr = np.linspace(0,10,500)\n",
    "time = cosmo.age(z_arr) # Gyr\n",
    "def z_to_t(x):\n",
    "    return interp1d(z_arr, time,fill_value='extrapolate')(x)\n",
    "def t_to_z(x):\n",
    "    return interp1d(time, z_arr,fill_value='extrapolate')(x) "
   ]
  },
  {
   "cell_type": "code",
   "execution_count": 11,
   "metadata": {},
   "outputs": [],
   "source": [
    "triples_z3_dr30_perc = []\n",
    "\n",
    "for i in range (0, len(triples_z3_dr30)):\n",
    "    \n",
    "    id1,id2,id3 = triples_z3_dr30[i][0],triples_z3_dr30[i][1],triples_z3_dr30[i][2]\n",
    "\n",
    "    bh1 = get_bh_history(id1)\n",
    "    bh2 = get_bh_history(id2)\n",
    "    bh3 = get_bh_history(id3)\n",
    "    \n",
    "    idx = i + 1\n",
    "    perc1,perc2,perc3,time1,time2,time3,totaltime = trip_perc(bh1,bh2,bh3,zstart=4.0,zend=redshift,bins=500)\n",
    "    id1,id2,id3 = triples_z3_dr30[i][0],triples_z3_dr30[i][1],triples_z3_dr30[i][2]\n",
    "    \n",
    "    triples_z3_dr30_perc.append((idx,id1,id2,id3,perc1,perc2,perc3,time1,time2,time3,totaltime))\n",
    "\n",
    "# np.savetxt(\"triples_z3_dr30 BH Percentages 01 - 36.csv\",triples_z3_dr30_z3_dr30_perc,delimiter=\", \",fmt='% s')\n",
    "\n",
    "trips_z3_dr30_perc = np.array(triples_z3_dr30_perc,dtype=[('TripIDX', '<f8'), ('BH1ID', '<f8'), ('BH2ID', '<f8'),\n",
    "                                                          ('BH3ID', '<f8'), ('Perc1', '<f8'), ('Perc2', '<f8'),\n",
    "                                                          ('Perc3', '<f8'), ('Time1', '<f8'), ('Time2', '<f8'),\n",
    "                                                          ('Time3', '<f8'), ('TotalTime', '<f8')])"
   ]
  },
  {
   "cell_type": "code",
   "execution_count": 12,
   "metadata": {},
   "outputs": [],
   "source": [
    "triples_z3_dr200_perc = []\n",
    "\n",
    "for i in range (0, len(triples_z3_dr200)):\n",
    "    \n",
    "    id1,id2,id3 = triples_z3_dr200[i][0],triples_z3_dr200[i][1],triples_z3_dr200[i][2]\n",
    "\n",
    "    bh1 = get_bh_history(id1)\n",
    "    bh2 = get_bh_history(id2)\n",
    "    bh3 = get_bh_history(id3)\n",
    "    \n",
    "    idx = i + 1\n",
    "    perc1,perc2,perc3,time1,time2,time3,totaltime = trip_perc(bh1,bh2,bh3,zstart=4.0,zend=redshift,bins=500)\n",
    "    id1,id2,id3 = triples_z3_dr200[i][0],triples_z3_dr200[i][1],triples_z3_dr200[i][2]\n",
    "    \n",
    "    triples_z3_dr200_perc.append((idx,id1,id2,id3,perc1,perc2,perc3,time1,time2,time3,totaltime))\n",
    "\n",
    "# np.savetxt(\"triples_z3_dr200 BH Percentages 01 - 36.csv\",triples_z3_dr200_z3_dr200_perc,delimiter=\", \",fmt='% s')\n",
    "\n",
    "trips_z3_dr200_perc = np.array(triples_z3_dr200_perc,dtype=[('TripIDX', '<f8'), ('BH1ID', '<f8'), ('BH2ID', '<f8'),\n",
    "                                                          ('BH3ID', '<f8'), ('Perc1', '<f8'), ('Perc2', '<f8'),\n",
    "                                                          ('Perc3', '<f8'), ('Time1', '<f8'), ('Time2', '<f8'),\n",
    "                                                          ('Time3', '<f8'), ('TotalTime', '<f8')])"
   ]
  },
  {
   "cell_type": "code",
   "execution_count": 13,
   "metadata": {},
   "outputs": [],
   "source": [
    "trips_z3_perc = np.concatenate((trips_z3_dr30_perc,trips_z3_dr200_perc))"
   ]
  },
  {
   "cell_type": "code",
   "execution_count": 14,
   "metadata": {},
   "outputs": [],
   "source": [
    "trips_z3_dr30_perc_df = pd.DataFrame(trips_z3_dr30_perc)\n",
    "trips_z3_dr200_perc_df = pd.DataFrame(trips_z3_dr200_perc)\n",
    "trips_z3_perc_df = pd.DataFrame(trips_z3_perc)"
   ]
  },
  {
   "cell_type": "markdown",
   "metadata": {},
   "source": [
    "#### Plotting LumX Percentages for Triples at z = 3"
   ]
  },
  {
   "cell_type": "code",
   "execution_count": 20,
   "metadata": {},
   "outputs": [
    {
     "data": {
      "application/vnd.plotly.v1+json": {
       "config": {
        "plotlyServerURL": "https://plot.ly"
       },
       "data": [
        {
         "coloraxis": "coloraxis",
         "hovertemplate": "2 AGN [%]=%{x}<br>3 AGN [%]=%{y}<br>count=%{z}<extra></extra>",
         "name": "",
         "nbinsx": 5,
         "nbinsy": 5,
         "texttemplate": "%{z}",
         "type": "histogram2d",
         "x": [
          87.17434869739478,
          64.92985971943895,
          63.72745490981951,
          50.901803607214276,
          97.99599198396791,
          100,
          97.39478957915824,
          99.79959919839679,
          76.35270541082171,
          100,
          81.56312625250501,
          100,
          100,
          99.39879759519042,
          77.15430861723458,
          99.79959919839679,
          76.75350701402803,
          35.27054108216437,
          98.99799599198398,
          100,
          86.17234468937876,
          100,
          69.13827655310631,
          96.3927855711423
         ],
         "xaxis": "x",
         "xbingroup": "x",
         "y": [
          3.0060120240480703,
          17.835671342685394,
          32.86573146292589,
          41.68336673346693,
          1.6032064128256764,
          89.77955911823642,
          82.36472945891775,
          9.619238476953912,
          39.67935871743491,
          96.19238476953913,
          47.895791583166314,
          34.669338677354595,
          99.39879759519042,
          82.7655310621243,
          19.839679358717454,
          2.2044088176352687,
          58.917835671342665,
          3.20641282565128,
          57.31462925851702,
          43.08617234468936,
          4.809619238476956,
          75.55110220440879,
          21.442885771542986,
          29.05811623246491
         ],
         "yaxis": "y",
         "ybingroup": "y"
        },
        {
         "alignmentgroup": "True",
         "bingroup": "x",
         "hovertemplate": "2 AGN [%]=%{x}<br>count=%{y}<extra></extra>",
         "legendgroup": "",
         "marker": {
          "color": "#0d0887"
         },
         "name": "",
         "offsetgroup": "",
         "opacity": 0.5,
         "showlegend": false,
         "type": "histogram",
         "x": [
          87.17434869739478,
          64.92985971943895,
          63.72745490981951,
          50.901803607214276,
          97.99599198396791,
          100,
          97.39478957915824,
          99.79959919839679,
          76.35270541082171,
          100,
          81.56312625250501,
          100,
          100,
          99.39879759519042,
          77.15430861723458,
          99.79959919839679,
          76.75350701402803,
          35.27054108216437,
          98.99799599198398,
          100,
          86.17234468937876,
          100,
          69.13827655310631,
          96.3927855711423
         ],
         "xaxis": "x3",
         "yaxis": "y3"
        },
        {
         "alignmentgroup": "True",
         "bingroup": "y",
         "hovertemplate": "3 AGN [%]=%{y}<br>count=%{x}<extra></extra>",
         "legendgroup": "",
         "marker": {
          "color": "#0d0887"
         },
         "name": "",
         "offsetgroup": "",
         "opacity": 0.5,
         "showlegend": false,
         "type": "histogram",
         "xaxis": "x2",
         "y": [
          3.0060120240480703,
          17.835671342685394,
          32.86573146292589,
          41.68336673346693,
          1.6032064128256764,
          89.77955911823642,
          82.36472945891775,
          9.619238476953912,
          39.67935871743491,
          96.19238476953913,
          47.895791583166314,
          34.669338677354595,
          99.39879759519042,
          82.7655310621243,
          19.839679358717454,
          2.2044088176352687,
          58.917835671342665,
          3.20641282565128,
          57.31462925851702,
          43.08617234468936,
          4.809619238476956,
          75.55110220440879,
          21.442885771542986,
          29.05811623246491
         ],
         "yaxis": "y2"
        }
       ],
       "layout": {
        "barmode": "overlay",
        "coloraxis": {
         "colorbar": {
          "title": {
           "text": "count"
          }
         },
         "colorscale": [
          [
           0,
           "#0d0887"
          ],
          [
           0.1111111111111111,
           "#46039f"
          ],
          [
           0.2222222222222222,
           "#7201a8"
          ],
          [
           0.3333333333333333,
           "#9c179e"
          ],
          [
           0.4444444444444444,
           "#bd3786"
          ],
          [
           0.5555555555555556,
           "#d8576b"
          ],
          [
           0.6666666666666666,
           "#ed7953"
          ],
          [
           0.7777777777777778,
           "#fb9f3a"
          ],
          [
           0.8888888888888888,
           "#fdca26"
          ],
          [
           1,
           "#f0f921"
          ]
         ]
        },
        "legend": {
         "tracegroupgap": 0
        },
        "margin": {
         "t": 60
        },
        "template": {
         "data": {
          "bar": [
           {
            "error_x": {
             "color": "#2a3f5f"
            },
            "error_y": {
             "color": "#2a3f5f"
            },
            "marker": {
             "line": {
              "color": "#E5ECF6",
              "width": 0.5
             },
             "pattern": {
              "fillmode": "overlay",
              "size": 10,
              "solidity": 0.2
             }
            },
            "type": "bar"
           }
          ],
          "barpolar": [
           {
            "marker": {
             "line": {
              "color": "#E5ECF6",
              "width": 0.5
             },
             "pattern": {
              "fillmode": "overlay",
              "size": 10,
              "solidity": 0.2
             }
            },
            "type": "barpolar"
           }
          ],
          "carpet": [
           {
            "aaxis": {
             "endlinecolor": "#2a3f5f",
             "gridcolor": "white",
             "linecolor": "white",
             "minorgridcolor": "white",
             "startlinecolor": "#2a3f5f"
            },
            "baxis": {
             "endlinecolor": "#2a3f5f",
             "gridcolor": "white",
             "linecolor": "white",
             "minorgridcolor": "white",
             "startlinecolor": "#2a3f5f"
            },
            "type": "carpet"
           }
          ],
          "choropleth": [
           {
            "colorbar": {
             "outlinewidth": 0,
             "ticks": ""
            },
            "type": "choropleth"
           }
          ],
          "contour": [
           {
            "colorbar": {
             "outlinewidth": 0,
             "ticks": ""
            },
            "colorscale": [
             [
              0,
              "#0d0887"
             ],
             [
              0.1111111111111111,
              "#46039f"
             ],
             [
              0.2222222222222222,
              "#7201a8"
             ],
             [
              0.3333333333333333,
              "#9c179e"
             ],
             [
              0.4444444444444444,
              "#bd3786"
             ],
             [
              0.5555555555555556,
              "#d8576b"
             ],
             [
              0.6666666666666666,
              "#ed7953"
             ],
             [
              0.7777777777777778,
              "#fb9f3a"
             ],
             [
              0.8888888888888888,
              "#fdca26"
             ],
             [
              1,
              "#f0f921"
             ]
            ],
            "type": "contour"
           }
          ],
          "contourcarpet": [
           {
            "colorbar": {
             "outlinewidth": 0,
             "ticks": ""
            },
            "type": "contourcarpet"
           }
          ],
          "heatmap": [
           {
            "colorbar": {
             "outlinewidth": 0,
             "ticks": ""
            },
            "colorscale": [
             [
              0,
              "#0d0887"
             ],
             [
              0.1111111111111111,
              "#46039f"
             ],
             [
              0.2222222222222222,
              "#7201a8"
             ],
             [
              0.3333333333333333,
              "#9c179e"
             ],
             [
              0.4444444444444444,
              "#bd3786"
             ],
             [
              0.5555555555555556,
              "#d8576b"
             ],
             [
              0.6666666666666666,
              "#ed7953"
             ],
             [
              0.7777777777777778,
              "#fb9f3a"
             ],
             [
              0.8888888888888888,
              "#fdca26"
             ],
             [
              1,
              "#f0f921"
             ]
            ],
            "type": "heatmap"
           }
          ],
          "heatmapgl": [
           {
            "colorbar": {
             "outlinewidth": 0,
             "ticks": ""
            },
            "colorscale": [
             [
              0,
              "#0d0887"
             ],
             [
              0.1111111111111111,
              "#46039f"
             ],
             [
              0.2222222222222222,
              "#7201a8"
             ],
             [
              0.3333333333333333,
              "#9c179e"
             ],
             [
              0.4444444444444444,
              "#bd3786"
             ],
             [
              0.5555555555555556,
              "#d8576b"
             ],
             [
              0.6666666666666666,
              "#ed7953"
             ],
             [
              0.7777777777777778,
              "#fb9f3a"
             ],
             [
              0.8888888888888888,
              "#fdca26"
             ],
             [
              1,
              "#f0f921"
             ]
            ],
            "type": "heatmapgl"
           }
          ],
          "histogram": [
           {
            "marker": {
             "pattern": {
              "fillmode": "overlay",
              "size": 10,
              "solidity": 0.2
             }
            },
            "type": "histogram"
           }
          ],
          "histogram2d": [
           {
            "colorbar": {
             "outlinewidth": 0,
             "ticks": ""
            },
            "colorscale": [
             [
              0,
              "#0d0887"
             ],
             [
              0.1111111111111111,
              "#46039f"
             ],
             [
              0.2222222222222222,
              "#7201a8"
             ],
             [
              0.3333333333333333,
              "#9c179e"
             ],
             [
              0.4444444444444444,
              "#bd3786"
             ],
             [
              0.5555555555555556,
              "#d8576b"
             ],
             [
              0.6666666666666666,
              "#ed7953"
             ],
             [
              0.7777777777777778,
              "#fb9f3a"
             ],
             [
              0.8888888888888888,
              "#fdca26"
             ],
             [
              1,
              "#f0f921"
             ]
            ],
            "type": "histogram2d"
           }
          ],
          "histogram2dcontour": [
           {
            "colorbar": {
             "outlinewidth": 0,
             "ticks": ""
            },
            "colorscale": [
             [
              0,
              "#0d0887"
             ],
             [
              0.1111111111111111,
              "#46039f"
             ],
             [
              0.2222222222222222,
              "#7201a8"
             ],
             [
              0.3333333333333333,
              "#9c179e"
             ],
             [
              0.4444444444444444,
              "#bd3786"
             ],
             [
              0.5555555555555556,
              "#d8576b"
             ],
             [
              0.6666666666666666,
              "#ed7953"
             ],
             [
              0.7777777777777778,
              "#fb9f3a"
             ],
             [
              0.8888888888888888,
              "#fdca26"
             ],
             [
              1,
              "#f0f921"
             ]
            ],
            "type": "histogram2dcontour"
           }
          ],
          "mesh3d": [
           {
            "colorbar": {
             "outlinewidth": 0,
             "ticks": ""
            },
            "type": "mesh3d"
           }
          ],
          "parcoords": [
           {
            "line": {
             "colorbar": {
              "outlinewidth": 0,
              "ticks": ""
             }
            },
            "type": "parcoords"
           }
          ],
          "pie": [
           {
            "automargin": true,
            "type": "pie"
           }
          ],
          "scatter": [
           {
            "fillpattern": {
             "fillmode": "overlay",
             "size": 10,
             "solidity": 0.2
            },
            "type": "scatter"
           }
          ],
          "scatter3d": [
           {
            "line": {
             "colorbar": {
              "outlinewidth": 0,
              "ticks": ""
             }
            },
            "marker": {
             "colorbar": {
              "outlinewidth": 0,
              "ticks": ""
             }
            },
            "type": "scatter3d"
           }
          ],
          "scattercarpet": [
           {
            "marker": {
             "colorbar": {
              "outlinewidth": 0,
              "ticks": ""
             }
            },
            "type": "scattercarpet"
           }
          ],
          "scattergeo": [
           {
            "marker": {
             "colorbar": {
              "outlinewidth": 0,
              "ticks": ""
             }
            },
            "type": "scattergeo"
           }
          ],
          "scattergl": [
           {
            "marker": {
             "colorbar": {
              "outlinewidth": 0,
              "ticks": ""
             }
            },
            "type": "scattergl"
           }
          ],
          "scattermapbox": [
           {
            "marker": {
             "colorbar": {
              "outlinewidth": 0,
              "ticks": ""
             }
            },
            "type": "scattermapbox"
           }
          ],
          "scatterpolar": [
           {
            "marker": {
             "colorbar": {
              "outlinewidth": 0,
              "ticks": ""
             }
            },
            "type": "scatterpolar"
           }
          ],
          "scatterpolargl": [
           {
            "marker": {
             "colorbar": {
              "outlinewidth": 0,
              "ticks": ""
             }
            },
            "type": "scatterpolargl"
           }
          ],
          "scatterternary": [
           {
            "marker": {
             "colorbar": {
              "outlinewidth": 0,
              "ticks": ""
             }
            },
            "type": "scatterternary"
           }
          ],
          "surface": [
           {
            "colorbar": {
             "outlinewidth": 0,
             "ticks": ""
            },
            "colorscale": [
             [
              0,
              "#0d0887"
             ],
             [
              0.1111111111111111,
              "#46039f"
             ],
             [
              0.2222222222222222,
              "#7201a8"
             ],
             [
              0.3333333333333333,
              "#9c179e"
             ],
             [
              0.4444444444444444,
              "#bd3786"
             ],
             [
              0.5555555555555556,
              "#d8576b"
             ],
             [
              0.6666666666666666,
              "#ed7953"
             ],
             [
              0.7777777777777778,
              "#fb9f3a"
             ],
             [
              0.8888888888888888,
              "#fdca26"
             ],
             [
              1,
              "#f0f921"
             ]
            ],
            "type": "surface"
           }
          ],
          "table": [
           {
            "cells": {
             "fill": {
              "color": "#EBF0F8"
             },
             "line": {
              "color": "white"
             }
            },
            "header": {
             "fill": {
              "color": "#C8D4E3"
             },
             "line": {
              "color": "white"
             }
            },
            "type": "table"
           }
          ]
         },
         "layout": {
          "annotationdefaults": {
           "arrowcolor": "#2a3f5f",
           "arrowhead": 0,
           "arrowwidth": 1
          },
          "autotypenumbers": "strict",
          "coloraxis": {
           "colorbar": {
            "outlinewidth": 0,
            "ticks": ""
           }
          },
          "colorscale": {
           "diverging": [
            [
             0,
             "#8e0152"
            ],
            [
             0.1,
             "#c51b7d"
            ],
            [
             0.2,
             "#de77ae"
            ],
            [
             0.3,
             "#f1b6da"
            ],
            [
             0.4,
             "#fde0ef"
            ],
            [
             0.5,
             "#f7f7f7"
            ],
            [
             0.6,
             "#e6f5d0"
            ],
            [
             0.7,
             "#b8e186"
            ],
            [
             0.8,
             "#7fbc41"
            ],
            [
             0.9,
             "#4d9221"
            ],
            [
             1,
             "#276419"
            ]
           ],
           "sequential": [
            [
             0,
             "#0d0887"
            ],
            [
             0.1111111111111111,
             "#46039f"
            ],
            [
             0.2222222222222222,
             "#7201a8"
            ],
            [
             0.3333333333333333,
             "#9c179e"
            ],
            [
             0.4444444444444444,
             "#bd3786"
            ],
            [
             0.5555555555555556,
             "#d8576b"
            ],
            [
             0.6666666666666666,
             "#ed7953"
            ],
            [
             0.7777777777777778,
             "#fb9f3a"
            ],
            [
             0.8888888888888888,
             "#fdca26"
            ],
            [
             1,
             "#f0f921"
            ]
           ],
           "sequentialminus": [
            [
             0,
             "#0d0887"
            ],
            [
             0.1111111111111111,
             "#46039f"
            ],
            [
             0.2222222222222222,
             "#7201a8"
            ],
            [
             0.3333333333333333,
             "#9c179e"
            ],
            [
             0.4444444444444444,
             "#bd3786"
            ],
            [
             0.5555555555555556,
             "#d8576b"
            ],
            [
             0.6666666666666666,
             "#ed7953"
            ],
            [
             0.7777777777777778,
             "#fb9f3a"
            ],
            [
             0.8888888888888888,
             "#fdca26"
            ],
            [
             1,
             "#f0f921"
            ]
           ]
          },
          "colorway": [
           "#636efa",
           "#EF553B",
           "#00cc96",
           "#ab63fa",
           "#FFA15A",
           "#19d3f3",
           "#FF6692",
           "#B6E880",
           "#FF97FF",
           "#FECB52"
          ],
          "font": {
           "color": "#2a3f5f"
          },
          "geo": {
           "bgcolor": "white",
           "lakecolor": "white",
           "landcolor": "#E5ECF6",
           "showlakes": true,
           "showland": true,
           "subunitcolor": "white"
          },
          "hoverlabel": {
           "align": "left"
          },
          "hovermode": "closest",
          "mapbox": {
           "style": "light"
          },
          "paper_bgcolor": "white",
          "plot_bgcolor": "#E5ECF6",
          "polar": {
           "angularaxis": {
            "gridcolor": "white",
            "linecolor": "white",
            "ticks": ""
           },
           "bgcolor": "#E5ECF6",
           "radialaxis": {
            "gridcolor": "white",
            "linecolor": "white",
            "ticks": ""
           }
          },
          "scene": {
           "xaxis": {
            "backgroundcolor": "#E5ECF6",
            "gridcolor": "white",
            "gridwidth": 2,
            "linecolor": "white",
            "showbackground": true,
            "ticks": "",
            "zerolinecolor": "white"
           },
           "yaxis": {
            "backgroundcolor": "#E5ECF6",
            "gridcolor": "white",
            "gridwidth": 2,
            "linecolor": "white",
            "showbackground": true,
            "ticks": "",
            "zerolinecolor": "white"
           },
           "zaxis": {
            "backgroundcolor": "#E5ECF6",
            "gridcolor": "white",
            "gridwidth": 2,
            "linecolor": "white",
            "showbackground": true,
            "ticks": "",
            "zerolinecolor": "white"
           }
          },
          "shapedefaults": {
           "line": {
            "color": "#2a3f5f"
           }
          },
          "ternary": {
           "aaxis": {
            "gridcolor": "white",
            "linecolor": "white",
            "ticks": ""
           },
           "baxis": {
            "gridcolor": "white",
            "linecolor": "white",
            "ticks": ""
           },
           "bgcolor": "#E5ECF6",
           "caxis": {
            "gridcolor": "white",
            "linecolor": "white",
            "ticks": ""
           }
          },
          "title": {
           "x": 0.05
          },
          "xaxis": {
           "automargin": true,
           "gridcolor": "white",
           "linecolor": "white",
           "ticks": "",
           "title": {
            "standoff": 15
           },
           "zerolinecolor": "white",
           "zerolinewidth": 2
          },
          "yaxis": {
           "automargin": true,
           "gridcolor": "white",
           "linecolor": "white",
           "ticks": "",
           "title": {
            "standoff": 15
           },
           "zerolinecolor": "white",
           "zerolinewidth": 2
          }
         }
        },
        "xaxis": {
         "anchor": "y",
         "domain": [
          0,
          0.7363
         ],
         "title": {
          "text": "2 AGN [%]"
         }
        },
        "xaxis2": {
         "anchor": "y2",
         "domain": [
          0.7413,
          1
         ],
         "matches": "x2",
         "showgrid": true,
         "showline": false,
         "showticklabels": false,
         "ticks": ""
        },
        "xaxis3": {
         "anchor": "y3",
         "domain": [
          0,
          0.7363
         ],
         "matches": "x",
         "showgrid": true,
         "showticklabels": false
        },
        "xaxis4": {
         "anchor": "y4",
         "domain": [
          0.7413,
          1
         ],
         "matches": "x2",
         "showgrid": true,
         "showline": false,
         "showticklabels": false,
         "ticks": ""
        },
        "yaxis": {
         "anchor": "x",
         "domain": [
          0,
          0.7326
         ],
         "title": {
          "text": "3 AGN [%]"
         }
        },
        "yaxis2": {
         "anchor": "x2",
         "domain": [
          0,
          0.7326
         ],
         "matches": "y",
         "showgrid": true,
         "showticklabels": false
        },
        "yaxis3": {
         "anchor": "x3",
         "domain": [
          0.7426,
          1
         ],
         "matches": "y3",
         "showgrid": true,
         "showline": false,
         "showticklabels": false,
         "ticks": ""
        },
        "yaxis4": {
         "anchor": "x4",
         "domain": [
          0.7426,
          1
         ],
         "matches": "y3",
         "showgrid": true,
         "showline": false,
         "showticklabels": false,
         "ticks": ""
        }
       }
      },
      "text/html": [
       "<div>                            <div id=\"0ac940d5-2433-4d1f-bf2b-1b08c46e0be5\" class=\"plotly-graph-div\" style=\"height:525px; width:100%;\"></div>            <script type=\"text/javascript\">                require([\"plotly\"], function(Plotly) {                    window.PLOTLYENV=window.PLOTLYENV || {};                                    if (document.getElementById(\"0ac940d5-2433-4d1f-bf2b-1b08c46e0be5\")) {                    Plotly.newPlot(                        \"0ac940d5-2433-4d1f-bf2b-1b08c46e0be5\",                        [{\"coloraxis\":\"coloraxis\",\"hovertemplate\":\"2 AGN [%]=%{x}<br>3 AGN [%]=%{y}<br>count=%{z}<extra></extra>\",\"name\":\"\",\"nbinsx\":5,\"nbinsy\":5,\"texttemplate\":\"%{z}\",\"x\":[87.17434869739478,64.92985971943895,63.72745490981951,50.901803607214276,97.99599198396791,100.0,97.39478957915824,99.79959919839679,76.35270541082171,100.0,81.56312625250501,100.0,100.0,99.39879759519042,77.15430861723458,99.79959919839679,76.75350701402803,35.27054108216437,98.99799599198398,100.0,86.17234468937876,100.0,69.13827655310631,96.3927855711423],\"xaxis\":\"x\",\"xbingroup\":\"x\",\"y\":[3.0060120240480703,17.835671342685394,32.86573146292589,41.68336673346693,1.6032064128256764,89.77955911823642,82.36472945891775,9.619238476953912,39.67935871743491,96.19238476953913,47.895791583166314,34.669338677354595,99.39879759519042,82.7655310621243,19.839679358717454,2.2044088176352687,58.917835671342665,3.20641282565128,57.31462925851702,43.08617234468936,4.809619238476956,75.55110220440879,21.442885771542986,29.05811623246491],\"yaxis\":\"y\",\"ybingroup\":\"y\",\"type\":\"histogram2d\"},{\"alignmentgroup\":\"True\",\"bingroup\":\"x\",\"hovertemplate\":\"2 AGN [%]=%{x}<br>count=%{y}<extra></extra>\",\"legendgroup\":\"\",\"marker\":{\"color\":\"#0d0887\"},\"name\":\"\",\"offsetgroup\":\"\",\"opacity\":0.5,\"showlegend\":false,\"x\":[87.17434869739478,64.92985971943895,63.72745490981951,50.901803607214276,97.99599198396791,100.0,97.39478957915824,99.79959919839679,76.35270541082171,100.0,81.56312625250501,100.0,100.0,99.39879759519042,77.15430861723458,99.79959919839679,76.75350701402803,35.27054108216437,98.99799599198398,100.0,86.17234468937876,100.0,69.13827655310631,96.3927855711423],\"xaxis\":\"x3\",\"yaxis\":\"y3\",\"type\":\"histogram\"},{\"alignmentgroup\":\"True\",\"bingroup\":\"y\",\"hovertemplate\":\"3 AGN [%]=%{y}<br>count=%{x}<extra></extra>\",\"legendgroup\":\"\",\"marker\":{\"color\":\"#0d0887\"},\"name\":\"\",\"offsetgroup\":\"\",\"opacity\":0.5,\"showlegend\":false,\"xaxis\":\"x2\",\"y\":[3.0060120240480703,17.835671342685394,32.86573146292589,41.68336673346693,1.6032064128256764,89.77955911823642,82.36472945891775,9.619238476953912,39.67935871743491,96.19238476953913,47.895791583166314,34.669338677354595,99.39879759519042,82.7655310621243,19.839679358717454,2.2044088176352687,58.917835671342665,3.20641282565128,57.31462925851702,43.08617234468936,4.809619238476956,75.55110220440879,21.442885771542986,29.05811623246491],\"yaxis\":\"y2\",\"type\":\"histogram\"}],                        {\"template\":{\"data\":{\"histogram2dcontour\":[{\"type\":\"histogram2dcontour\",\"colorbar\":{\"outlinewidth\":0,\"ticks\":\"\"},\"colorscale\":[[0.0,\"#0d0887\"],[0.1111111111111111,\"#46039f\"],[0.2222222222222222,\"#7201a8\"],[0.3333333333333333,\"#9c179e\"],[0.4444444444444444,\"#bd3786\"],[0.5555555555555556,\"#d8576b\"],[0.6666666666666666,\"#ed7953\"],[0.7777777777777778,\"#fb9f3a\"],[0.8888888888888888,\"#fdca26\"],[1.0,\"#f0f921\"]]}],\"choropleth\":[{\"type\":\"choropleth\",\"colorbar\":{\"outlinewidth\":0,\"ticks\":\"\"}}],\"histogram2d\":[{\"type\":\"histogram2d\",\"colorbar\":{\"outlinewidth\":0,\"ticks\":\"\"},\"colorscale\":[[0.0,\"#0d0887\"],[0.1111111111111111,\"#46039f\"],[0.2222222222222222,\"#7201a8\"],[0.3333333333333333,\"#9c179e\"],[0.4444444444444444,\"#bd3786\"],[0.5555555555555556,\"#d8576b\"],[0.6666666666666666,\"#ed7953\"],[0.7777777777777778,\"#fb9f3a\"],[0.8888888888888888,\"#fdca26\"],[1.0,\"#f0f921\"]]}],\"heatmap\":[{\"type\":\"heatmap\",\"colorbar\":{\"outlinewidth\":0,\"ticks\":\"\"},\"colorscale\":[[0.0,\"#0d0887\"],[0.1111111111111111,\"#46039f\"],[0.2222222222222222,\"#7201a8\"],[0.3333333333333333,\"#9c179e\"],[0.4444444444444444,\"#bd3786\"],[0.5555555555555556,\"#d8576b\"],[0.6666666666666666,\"#ed7953\"],[0.7777777777777778,\"#fb9f3a\"],[0.8888888888888888,\"#fdca26\"],[1.0,\"#f0f921\"]]}],\"heatmapgl\":[{\"type\":\"heatmapgl\",\"colorbar\":{\"outlinewidth\":0,\"ticks\":\"\"},\"colorscale\":[[0.0,\"#0d0887\"],[0.1111111111111111,\"#46039f\"],[0.2222222222222222,\"#7201a8\"],[0.3333333333333333,\"#9c179e\"],[0.4444444444444444,\"#bd3786\"],[0.5555555555555556,\"#d8576b\"],[0.6666666666666666,\"#ed7953\"],[0.7777777777777778,\"#fb9f3a\"],[0.8888888888888888,\"#fdca26\"],[1.0,\"#f0f921\"]]}],\"contourcarpet\":[{\"type\":\"contourcarpet\",\"colorbar\":{\"outlinewidth\":0,\"ticks\":\"\"}}],\"contour\":[{\"type\":\"contour\",\"colorbar\":{\"outlinewidth\":0,\"ticks\":\"\"},\"colorscale\":[[0.0,\"#0d0887\"],[0.1111111111111111,\"#46039f\"],[0.2222222222222222,\"#7201a8\"],[0.3333333333333333,\"#9c179e\"],[0.4444444444444444,\"#bd3786\"],[0.5555555555555556,\"#d8576b\"],[0.6666666666666666,\"#ed7953\"],[0.7777777777777778,\"#fb9f3a\"],[0.8888888888888888,\"#fdca26\"],[1.0,\"#f0f921\"]]}],\"surface\":[{\"type\":\"surface\",\"colorbar\":{\"outlinewidth\":0,\"ticks\":\"\"},\"colorscale\":[[0.0,\"#0d0887\"],[0.1111111111111111,\"#46039f\"],[0.2222222222222222,\"#7201a8\"],[0.3333333333333333,\"#9c179e\"],[0.4444444444444444,\"#bd3786\"],[0.5555555555555556,\"#d8576b\"],[0.6666666666666666,\"#ed7953\"],[0.7777777777777778,\"#fb9f3a\"],[0.8888888888888888,\"#fdca26\"],[1.0,\"#f0f921\"]]}],\"mesh3d\":[{\"type\":\"mesh3d\",\"colorbar\":{\"outlinewidth\":0,\"ticks\":\"\"}}],\"scatter\":[{\"fillpattern\":{\"fillmode\":\"overlay\",\"size\":10,\"solidity\":0.2},\"type\":\"scatter\"}],\"parcoords\":[{\"type\":\"parcoords\",\"line\":{\"colorbar\":{\"outlinewidth\":0,\"ticks\":\"\"}}}],\"scatterpolargl\":[{\"type\":\"scatterpolargl\",\"marker\":{\"colorbar\":{\"outlinewidth\":0,\"ticks\":\"\"}}}],\"bar\":[{\"error_x\":{\"color\":\"#2a3f5f\"},\"error_y\":{\"color\":\"#2a3f5f\"},\"marker\":{\"line\":{\"color\":\"#E5ECF6\",\"width\":0.5},\"pattern\":{\"fillmode\":\"overlay\",\"size\":10,\"solidity\":0.2}},\"type\":\"bar\"}],\"scattergeo\":[{\"type\":\"scattergeo\",\"marker\":{\"colorbar\":{\"outlinewidth\":0,\"ticks\":\"\"}}}],\"scatterpolar\":[{\"type\":\"scatterpolar\",\"marker\":{\"colorbar\":{\"outlinewidth\":0,\"ticks\":\"\"}}}],\"histogram\":[{\"marker\":{\"pattern\":{\"fillmode\":\"overlay\",\"size\":10,\"solidity\":0.2}},\"type\":\"histogram\"}],\"scattergl\":[{\"type\":\"scattergl\",\"marker\":{\"colorbar\":{\"outlinewidth\":0,\"ticks\":\"\"}}}],\"scatter3d\":[{\"type\":\"scatter3d\",\"line\":{\"colorbar\":{\"outlinewidth\":0,\"ticks\":\"\"}},\"marker\":{\"colorbar\":{\"outlinewidth\":0,\"ticks\":\"\"}}}],\"scattermapbox\":[{\"type\":\"scattermapbox\",\"marker\":{\"colorbar\":{\"outlinewidth\":0,\"ticks\":\"\"}}}],\"scatterternary\":[{\"type\":\"scatterternary\",\"marker\":{\"colorbar\":{\"outlinewidth\":0,\"ticks\":\"\"}}}],\"scattercarpet\":[{\"type\":\"scattercarpet\",\"marker\":{\"colorbar\":{\"outlinewidth\":0,\"ticks\":\"\"}}}],\"carpet\":[{\"aaxis\":{\"endlinecolor\":\"#2a3f5f\",\"gridcolor\":\"white\",\"linecolor\":\"white\",\"minorgridcolor\":\"white\",\"startlinecolor\":\"#2a3f5f\"},\"baxis\":{\"endlinecolor\":\"#2a3f5f\",\"gridcolor\":\"white\",\"linecolor\":\"white\",\"minorgridcolor\":\"white\",\"startlinecolor\":\"#2a3f5f\"},\"type\":\"carpet\"}],\"table\":[{\"cells\":{\"fill\":{\"color\":\"#EBF0F8\"},\"line\":{\"color\":\"white\"}},\"header\":{\"fill\":{\"color\":\"#C8D4E3\"},\"line\":{\"color\":\"white\"}},\"type\":\"table\"}],\"barpolar\":[{\"marker\":{\"line\":{\"color\":\"#E5ECF6\",\"width\":0.5},\"pattern\":{\"fillmode\":\"overlay\",\"size\":10,\"solidity\":0.2}},\"type\":\"barpolar\"}],\"pie\":[{\"automargin\":true,\"type\":\"pie\"}]},\"layout\":{\"autotypenumbers\":\"strict\",\"colorway\":[\"#636efa\",\"#EF553B\",\"#00cc96\",\"#ab63fa\",\"#FFA15A\",\"#19d3f3\",\"#FF6692\",\"#B6E880\",\"#FF97FF\",\"#FECB52\"],\"font\":{\"color\":\"#2a3f5f\"},\"hovermode\":\"closest\",\"hoverlabel\":{\"align\":\"left\"},\"paper_bgcolor\":\"white\",\"plot_bgcolor\":\"#E5ECF6\",\"polar\":{\"bgcolor\":\"#E5ECF6\",\"angularaxis\":{\"gridcolor\":\"white\",\"linecolor\":\"white\",\"ticks\":\"\"},\"radialaxis\":{\"gridcolor\":\"white\",\"linecolor\":\"white\",\"ticks\":\"\"}},\"ternary\":{\"bgcolor\":\"#E5ECF6\",\"aaxis\":{\"gridcolor\":\"white\",\"linecolor\":\"white\",\"ticks\":\"\"},\"baxis\":{\"gridcolor\":\"white\",\"linecolor\":\"white\",\"ticks\":\"\"},\"caxis\":{\"gridcolor\":\"white\",\"linecolor\":\"white\",\"ticks\":\"\"}},\"coloraxis\":{\"colorbar\":{\"outlinewidth\":0,\"ticks\":\"\"}},\"colorscale\":{\"sequential\":[[0.0,\"#0d0887\"],[0.1111111111111111,\"#46039f\"],[0.2222222222222222,\"#7201a8\"],[0.3333333333333333,\"#9c179e\"],[0.4444444444444444,\"#bd3786\"],[0.5555555555555556,\"#d8576b\"],[0.6666666666666666,\"#ed7953\"],[0.7777777777777778,\"#fb9f3a\"],[0.8888888888888888,\"#fdca26\"],[1.0,\"#f0f921\"]],\"sequentialminus\":[[0.0,\"#0d0887\"],[0.1111111111111111,\"#46039f\"],[0.2222222222222222,\"#7201a8\"],[0.3333333333333333,\"#9c179e\"],[0.4444444444444444,\"#bd3786\"],[0.5555555555555556,\"#d8576b\"],[0.6666666666666666,\"#ed7953\"],[0.7777777777777778,\"#fb9f3a\"],[0.8888888888888888,\"#fdca26\"],[1.0,\"#f0f921\"]],\"diverging\":[[0,\"#8e0152\"],[0.1,\"#c51b7d\"],[0.2,\"#de77ae\"],[0.3,\"#f1b6da\"],[0.4,\"#fde0ef\"],[0.5,\"#f7f7f7\"],[0.6,\"#e6f5d0\"],[0.7,\"#b8e186\"],[0.8,\"#7fbc41\"],[0.9,\"#4d9221\"],[1,\"#276419\"]]},\"xaxis\":{\"gridcolor\":\"white\",\"linecolor\":\"white\",\"ticks\":\"\",\"title\":{\"standoff\":15},\"zerolinecolor\":\"white\",\"automargin\":true,\"zerolinewidth\":2},\"yaxis\":{\"gridcolor\":\"white\",\"linecolor\":\"white\",\"ticks\":\"\",\"title\":{\"standoff\":15},\"zerolinecolor\":\"white\",\"automargin\":true,\"zerolinewidth\":2},\"scene\":{\"xaxis\":{\"backgroundcolor\":\"#E5ECF6\",\"gridcolor\":\"white\",\"linecolor\":\"white\",\"showbackground\":true,\"ticks\":\"\",\"zerolinecolor\":\"white\",\"gridwidth\":2},\"yaxis\":{\"backgroundcolor\":\"#E5ECF6\",\"gridcolor\":\"white\",\"linecolor\":\"white\",\"showbackground\":true,\"ticks\":\"\",\"zerolinecolor\":\"white\",\"gridwidth\":2},\"zaxis\":{\"backgroundcolor\":\"#E5ECF6\",\"gridcolor\":\"white\",\"linecolor\":\"white\",\"showbackground\":true,\"ticks\":\"\",\"zerolinecolor\":\"white\",\"gridwidth\":2}},\"shapedefaults\":{\"line\":{\"color\":\"#2a3f5f\"}},\"annotationdefaults\":{\"arrowcolor\":\"#2a3f5f\",\"arrowhead\":0,\"arrowwidth\":1},\"geo\":{\"bgcolor\":\"white\",\"landcolor\":\"#E5ECF6\",\"subunitcolor\":\"white\",\"showland\":true,\"showlakes\":true,\"lakecolor\":\"white\"},\"title\":{\"x\":0.05},\"mapbox\":{\"style\":\"light\"}}},\"xaxis\":{\"anchor\":\"y\",\"domain\":[0.0,0.7363],\"title\":{\"text\":\"2 AGN [%]\"}},\"yaxis\":{\"anchor\":\"x\",\"domain\":[0.0,0.7326],\"title\":{\"text\":\"3 AGN [%]\"}},\"xaxis2\":{\"anchor\":\"y2\",\"domain\":[0.7413,1.0],\"matches\":\"x2\",\"showticklabels\":false,\"showline\":false,\"ticks\":\"\",\"showgrid\":true},\"yaxis2\":{\"anchor\":\"x2\",\"domain\":[0.0,0.7326],\"matches\":\"y\",\"showticklabels\":false,\"showgrid\":true},\"xaxis3\":{\"anchor\":\"y3\",\"domain\":[0.0,0.7363],\"matches\":\"x\",\"showticklabels\":false,\"showgrid\":true},\"yaxis3\":{\"anchor\":\"x3\",\"domain\":[0.7426,1.0],\"matches\":\"y3\",\"showticklabels\":false,\"showline\":false,\"ticks\":\"\",\"showgrid\":true},\"xaxis4\":{\"anchor\":\"y4\",\"domain\":[0.7413,1.0],\"matches\":\"x2\",\"showticklabels\":false,\"showgrid\":true,\"showline\":false,\"ticks\":\"\"},\"yaxis4\":{\"anchor\":\"x4\",\"domain\":[0.7426,1.0],\"matches\":\"y3\",\"showticklabels\":false,\"showline\":false,\"ticks\":\"\",\"showgrid\":true},\"coloraxis\":{\"colorbar\":{\"title\":{\"text\":\"count\"}},\"colorscale\":[[0.0,\"#0d0887\"],[0.1111111111111111,\"#46039f\"],[0.2222222222222222,\"#7201a8\"],[0.3333333333333333,\"#9c179e\"],[0.4444444444444444,\"#bd3786\"],[0.5555555555555556,\"#d8576b\"],[0.6666666666666666,\"#ed7953\"],[0.7777777777777778,\"#fb9f3a\"],[0.8888888888888888,\"#fdca26\"],[1.0,\"#f0f921\"]]},\"legend\":{\"tracegroupgap\":0},\"margin\":{\"t\":60},\"barmode\":\"overlay\"},                        {\"responsive\": true}                    ).then(function(){\n",
       "                            \n",
       "var gd = document.getElementById('0ac940d5-2433-4d1f-bf2b-1b08c46e0be5');\n",
       "var x = new MutationObserver(function (mutations, observer) {{\n",
       "        var display = window.getComputedStyle(gd).display;\n",
       "        if (!display || display === 'none') {{\n",
       "            console.log([gd, 'removed!']);\n",
       "            Plotly.purge(gd);\n",
       "            observer.disconnect();\n",
       "        }}\n",
       "}});\n",
       "\n",
       "// Listen for the removal of the full notebook cells\n",
       "var notebookContainer = gd.closest('#notebook-container');\n",
       "if (notebookContainer) {{\n",
       "    x.observe(notebookContainer, {childList: true});\n",
       "}}\n",
       "\n",
       "// Listen for the clearing of the current output cell\n",
       "var outputEl = gd.closest('.output');\n",
       "if (outputEl) {{\n",
       "    x.observe(outputEl, {childList: true});\n",
       "}}\n",
       "\n",
       "                        })                };                });            </script>        </div>"
      ]
     },
     "metadata": {},
     "output_type": "display_data"
    }
   ],
   "source": [
    "fig = px.density_heatmap(trips_z3_dr30_perc_df, x=\"Perc2\", y=\"Perc3\",text_auto=True,nbinsx=5,nbinsy=5,\n",
    "                         labels={\n",
    "                           \"Perc2\": \"2 AGN [%]\",\n",
    "                           \"Perc3\": \"3 AGN [%]\"  \n",
    "                         },\n",
    "                         marginal_x=\"histogram\",marginal_y=\"histogram\")\n",
    "\n",
    "fig.show()"
   ]
  },
  {
   "cell_type": "code",
   "execution_count": 19,
   "metadata": {},
   "outputs": [
    {
     "data": {
      "application/vnd.plotly.v1+json": {
       "config": {
        "plotlyServerURL": "https://plot.ly"
       },
       "data": [
        {
         "coloraxis": "coloraxis",
         "hovertemplate": "2 AGN [%]=%{x}<br>3 AGN [%]=%{y}<br>count=%{z}<extra></extra>",
         "name": "",
         "nbinsx": 5,
         "nbinsy": 5,
         "texttemplate": "%{z}",
         "type": "histogram2d",
         "x": [
          52.5050100200401,
          52.304609218436894,
          100,
          100,
          82.76553106212423,
          100,
          100,
          40.88176352705409,
          40.88176352705409,
          100,
          100,
          100,
          100,
          100,
          100,
          100,
          60.52104208416838,
          97.1943887775551,
          60.52104208416838,
          97.1943887775551,
          100,
          100,
          100,
          100,
          100,
          100,
          100,
          100,
          100,
          100,
          99.79959919839679,
          100,
          100,
          100,
          17.835671342685394,
          89.37875751503,
          17.835671342685394,
          89.37875751503,
          100,
          100,
          100,
          100,
          99.79959919839679,
          100,
          100,
          99.59919839679358,
          100,
          100,
          100,
          100,
          100,
          100,
          95.19038076152304,
          100,
          99.39879759519037,
          100,
          100,
          100,
          100,
          100,
          100,
          67.33466933867734,
          100,
          100
         ],
         "xaxis": "x",
         "xbingroup": "x",
         "y": [
          3.0060120240480703,
          3.0060120240480703,
          47.29458917835672,
          40.68136272545092,
          40.68136272545092,
          73.14629258517036,
          71.14228456913827,
          9.619238476953912,
          9.619238476953912,
          73.74749498997996,
          100,
          29.058116232464695,
          47.09418837675337,
          46.29258517034068,
          100,
          46.29258517034053,
          22.645290581162353,
          22.645290581162353,
          36.072144288577135,
          36.072144288577135,
          76.55310621242485,
          22.845691382765526,
          100,
          74.94989979959925,
          100,
          36.272545090180344,
          100,
          67.33466933867747,
          92.98597194388778,
          86.17234468937876,
          86.17234468937876,
          79.55911823647291,
          63.32665330661323,
          18.036072144288713,
          2.8056112224448606,
          2.8056112224448606,
          2.8056112224448606,
          2.8056112224448606,
          95.99198396793588,
          42.08416833667335,
          100,
          99.79959919839679,
          2.4048096192384416,
          98.79759519038078,
          93.3867735470942,
          70.14028056112221,
          70.14028056112221,
          69.93987975951904,
          100,
          25.851703406813446,
          15.2304609218436,
          100,
          61.32264529058118,
          99.59919839679358,
          58.717434869739485,
          12.024048096192354,
          92.78557114228457,
          54.30861723446895,
          100,
          55.91182364729459,
          75.95190380761525,
          23.64729458917836,
          99.79959919839679,
          91.98396793587177
         ],
         "yaxis": "y",
         "ybingroup": "y"
        },
        {
         "alignmentgroup": "True",
         "bingroup": "x",
         "hovertemplate": "2 AGN [%]=%{x}<br>count=%{y}<extra></extra>",
         "legendgroup": "",
         "marker": {
          "color": "#0d0887"
         },
         "name": "",
         "offsetgroup": "",
         "opacity": 0.5,
         "showlegend": false,
         "type": "histogram",
         "x": [
          52.5050100200401,
          52.304609218436894,
          100,
          100,
          82.76553106212423,
          100,
          100,
          40.88176352705409,
          40.88176352705409,
          100,
          100,
          100,
          100,
          100,
          100,
          100,
          60.52104208416838,
          97.1943887775551,
          60.52104208416838,
          97.1943887775551,
          100,
          100,
          100,
          100,
          100,
          100,
          100,
          100,
          100,
          100,
          99.79959919839679,
          100,
          100,
          100,
          17.835671342685394,
          89.37875751503,
          17.835671342685394,
          89.37875751503,
          100,
          100,
          100,
          100,
          99.79959919839679,
          100,
          100,
          99.59919839679358,
          100,
          100,
          100,
          100,
          100,
          100,
          95.19038076152304,
          100,
          99.39879759519037,
          100,
          100,
          100,
          100,
          100,
          100,
          67.33466933867734,
          100,
          100
         ],
         "xaxis": "x3",
         "yaxis": "y3"
        },
        {
         "alignmentgroup": "True",
         "bingroup": "y",
         "hovertemplate": "3 AGN [%]=%{y}<br>count=%{x}<extra></extra>",
         "legendgroup": "",
         "marker": {
          "color": "#0d0887"
         },
         "name": "",
         "offsetgroup": "",
         "opacity": 0.5,
         "showlegend": false,
         "type": "histogram",
         "xaxis": "x2",
         "y": [
          3.0060120240480703,
          3.0060120240480703,
          47.29458917835672,
          40.68136272545092,
          40.68136272545092,
          73.14629258517036,
          71.14228456913827,
          9.619238476953912,
          9.619238476953912,
          73.74749498997996,
          100,
          29.058116232464695,
          47.09418837675337,
          46.29258517034068,
          100,
          46.29258517034053,
          22.645290581162353,
          22.645290581162353,
          36.072144288577135,
          36.072144288577135,
          76.55310621242485,
          22.845691382765526,
          100,
          74.94989979959925,
          100,
          36.272545090180344,
          100,
          67.33466933867747,
          92.98597194388778,
          86.17234468937876,
          86.17234468937876,
          79.55911823647291,
          63.32665330661323,
          18.036072144288713,
          2.8056112224448606,
          2.8056112224448606,
          2.8056112224448606,
          2.8056112224448606,
          95.99198396793588,
          42.08416833667335,
          100,
          99.79959919839679,
          2.4048096192384416,
          98.79759519038078,
          93.3867735470942,
          70.14028056112221,
          70.14028056112221,
          69.93987975951904,
          100,
          25.851703406813446,
          15.2304609218436,
          100,
          61.32264529058118,
          99.59919839679358,
          58.717434869739485,
          12.024048096192354,
          92.78557114228457,
          54.30861723446895,
          100,
          55.91182364729459,
          75.95190380761525,
          23.64729458917836,
          99.79959919839679,
          91.98396793587177
         ],
         "yaxis": "y2"
        }
       ],
       "layout": {
        "barmode": "overlay",
        "coloraxis": {
         "colorbar": {
          "title": {
           "text": "count"
          }
         },
         "colorscale": [
          [
           0,
           "#0d0887"
          ],
          [
           0.1111111111111111,
           "#46039f"
          ],
          [
           0.2222222222222222,
           "#7201a8"
          ],
          [
           0.3333333333333333,
           "#9c179e"
          ],
          [
           0.4444444444444444,
           "#bd3786"
          ],
          [
           0.5555555555555556,
           "#d8576b"
          ],
          [
           0.6666666666666666,
           "#ed7953"
          ],
          [
           0.7777777777777778,
           "#fb9f3a"
          ],
          [
           0.8888888888888888,
           "#fdca26"
          ],
          [
           1,
           "#f0f921"
          ]
         ]
        },
        "legend": {
         "tracegroupgap": 0
        },
        "margin": {
         "t": 60
        },
        "template": {
         "data": {
          "bar": [
           {
            "error_x": {
             "color": "#2a3f5f"
            },
            "error_y": {
             "color": "#2a3f5f"
            },
            "marker": {
             "line": {
              "color": "#E5ECF6",
              "width": 0.5
             },
             "pattern": {
              "fillmode": "overlay",
              "size": 10,
              "solidity": 0.2
             }
            },
            "type": "bar"
           }
          ],
          "barpolar": [
           {
            "marker": {
             "line": {
              "color": "#E5ECF6",
              "width": 0.5
             },
             "pattern": {
              "fillmode": "overlay",
              "size": 10,
              "solidity": 0.2
             }
            },
            "type": "barpolar"
           }
          ],
          "carpet": [
           {
            "aaxis": {
             "endlinecolor": "#2a3f5f",
             "gridcolor": "white",
             "linecolor": "white",
             "minorgridcolor": "white",
             "startlinecolor": "#2a3f5f"
            },
            "baxis": {
             "endlinecolor": "#2a3f5f",
             "gridcolor": "white",
             "linecolor": "white",
             "minorgridcolor": "white",
             "startlinecolor": "#2a3f5f"
            },
            "type": "carpet"
           }
          ],
          "choropleth": [
           {
            "colorbar": {
             "outlinewidth": 0,
             "ticks": ""
            },
            "type": "choropleth"
           }
          ],
          "contour": [
           {
            "colorbar": {
             "outlinewidth": 0,
             "ticks": ""
            },
            "colorscale": [
             [
              0,
              "#0d0887"
             ],
             [
              0.1111111111111111,
              "#46039f"
             ],
             [
              0.2222222222222222,
              "#7201a8"
             ],
             [
              0.3333333333333333,
              "#9c179e"
             ],
             [
              0.4444444444444444,
              "#bd3786"
             ],
             [
              0.5555555555555556,
              "#d8576b"
             ],
             [
              0.6666666666666666,
              "#ed7953"
             ],
             [
              0.7777777777777778,
              "#fb9f3a"
             ],
             [
              0.8888888888888888,
              "#fdca26"
             ],
             [
              1,
              "#f0f921"
             ]
            ],
            "type": "contour"
           }
          ],
          "contourcarpet": [
           {
            "colorbar": {
             "outlinewidth": 0,
             "ticks": ""
            },
            "type": "contourcarpet"
           }
          ],
          "heatmap": [
           {
            "colorbar": {
             "outlinewidth": 0,
             "ticks": ""
            },
            "colorscale": [
             [
              0,
              "#0d0887"
             ],
             [
              0.1111111111111111,
              "#46039f"
             ],
             [
              0.2222222222222222,
              "#7201a8"
             ],
             [
              0.3333333333333333,
              "#9c179e"
             ],
             [
              0.4444444444444444,
              "#bd3786"
             ],
             [
              0.5555555555555556,
              "#d8576b"
             ],
             [
              0.6666666666666666,
              "#ed7953"
             ],
             [
              0.7777777777777778,
              "#fb9f3a"
             ],
             [
              0.8888888888888888,
              "#fdca26"
             ],
             [
              1,
              "#f0f921"
             ]
            ],
            "type": "heatmap"
           }
          ],
          "heatmapgl": [
           {
            "colorbar": {
             "outlinewidth": 0,
             "ticks": ""
            },
            "colorscale": [
             [
              0,
              "#0d0887"
             ],
             [
              0.1111111111111111,
              "#46039f"
             ],
             [
              0.2222222222222222,
              "#7201a8"
             ],
             [
              0.3333333333333333,
              "#9c179e"
             ],
             [
              0.4444444444444444,
              "#bd3786"
             ],
             [
              0.5555555555555556,
              "#d8576b"
             ],
             [
              0.6666666666666666,
              "#ed7953"
             ],
             [
              0.7777777777777778,
              "#fb9f3a"
             ],
             [
              0.8888888888888888,
              "#fdca26"
             ],
             [
              1,
              "#f0f921"
             ]
            ],
            "type": "heatmapgl"
           }
          ],
          "histogram": [
           {
            "marker": {
             "pattern": {
              "fillmode": "overlay",
              "size": 10,
              "solidity": 0.2
             }
            },
            "type": "histogram"
           }
          ],
          "histogram2d": [
           {
            "colorbar": {
             "outlinewidth": 0,
             "ticks": ""
            },
            "colorscale": [
             [
              0,
              "#0d0887"
             ],
             [
              0.1111111111111111,
              "#46039f"
             ],
             [
              0.2222222222222222,
              "#7201a8"
             ],
             [
              0.3333333333333333,
              "#9c179e"
             ],
             [
              0.4444444444444444,
              "#bd3786"
             ],
             [
              0.5555555555555556,
              "#d8576b"
             ],
             [
              0.6666666666666666,
              "#ed7953"
             ],
             [
              0.7777777777777778,
              "#fb9f3a"
             ],
             [
              0.8888888888888888,
              "#fdca26"
             ],
             [
              1,
              "#f0f921"
             ]
            ],
            "type": "histogram2d"
           }
          ],
          "histogram2dcontour": [
           {
            "colorbar": {
             "outlinewidth": 0,
             "ticks": ""
            },
            "colorscale": [
             [
              0,
              "#0d0887"
             ],
             [
              0.1111111111111111,
              "#46039f"
             ],
             [
              0.2222222222222222,
              "#7201a8"
             ],
             [
              0.3333333333333333,
              "#9c179e"
             ],
             [
              0.4444444444444444,
              "#bd3786"
             ],
             [
              0.5555555555555556,
              "#d8576b"
             ],
             [
              0.6666666666666666,
              "#ed7953"
             ],
             [
              0.7777777777777778,
              "#fb9f3a"
             ],
             [
              0.8888888888888888,
              "#fdca26"
             ],
             [
              1,
              "#f0f921"
             ]
            ],
            "type": "histogram2dcontour"
           }
          ],
          "mesh3d": [
           {
            "colorbar": {
             "outlinewidth": 0,
             "ticks": ""
            },
            "type": "mesh3d"
           }
          ],
          "parcoords": [
           {
            "line": {
             "colorbar": {
              "outlinewidth": 0,
              "ticks": ""
             }
            },
            "type": "parcoords"
           }
          ],
          "pie": [
           {
            "automargin": true,
            "type": "pie"
           }
          ],
          "scatter": [
           {
            "fillpattern": {
             "fillmode": "overlay",
             "size": 10,
             "solidity": 0.2
            },
            "type": "scatter"
           }
          ],
          "scatter3d": [
           {
            "line": {
             "colorbar": {
              "outlinewidth": 0,
              "ticks": ""
             }
            },
            "marker": {
             "colorbar": {
              "outlinewidth": 0,
              "ticks": ""
             }
            },
            "type": "scatter3d"
           }
          ],
          "scattercarpet": [
           {
            "marker": {
             "colorbar": {
              "outlinewidth": 0,
              "ticks": ""
             }
            },
            "type": "scattercarpet"
           }
          ],
          "scattergeo": [
           {
            "marker": {
             "colorbar": {
              "outlinewidth": 0,
              "ticks": ""
             }
            },
            "type": "scattergeo"
           }
          ],
          "scattergl": [
           {
            "marker": {
             "colorbar": {
              "outlinewidth": 0,
              "ticks": ""
             }
            },
            "type": "scattergl"
           }
          ],
          "scattermapbox": [
           {
            "marker": {
             "colorbar": {
              "outlinewidth": 0,
              "ticks": ""
             }
            },
            "type": "scattermapbox"
           }
          ],
          "scatterpolar": [
           {
            "marker": {
             "colorbar": {
              "outlinewidth": 0,
              "ticks": ""
             }
            },
            "type": "scatterpolar"
           }
          ],
          "scatterpolargl": [
           {
            "marker": {
             "colorbar": {
              "outlinewidth": 0,
              "ticks": ""
             }
            },
            "type": "scatterpolargl"
           }
          ],
          "scatterternary": [
           {
            "marker": {
             "colorbar": {
              "outlinewidth": 0,
              "ticks": ""
             }
            },
            "type": "scatterternary"
           }
          ],
          "surface": [
           {
            "colorbar": {
             "outlinewidth": 0,
             "ticks": ""
            },
            "colorscale": [
             [
              0,
              "#0d0887"
             ],
             [
              0.1111111111111111,
              "#46039f"
             ],
             [
              0.2222222222222222,
              "#7201a8"
             ],
             [
              0.3333333333333333,
              "#9c179e"
             ],
             [
              0.4444444444444444,
              "#bd3786"
             ],
             [
              0.5555555555555556,
              "#d8576b"
             ],
             [
              0.6666666666666666,
              "#ed7953"
             ],
             [
              0.7777777777777778,
              "#fb9f3a"
             ],
             [
              0.8888888888888888,
              "#fdca26"
             ],
             [
              1,
              "#f0f921"
             ]
            ],
            "type": "surface"
           }
          ],
          "table": [
           {
            "cells": {
             "fill": {
              "color": "#EBF0F8"
             },
             "line": {
              "color": "white"
             }
            },
            "header": {
             "fill": {
              "color": "#C8D4E3"
             },
             "line": {
              "color": "white"
             }
            },
            "type": "table"
           }
          ]
         },
         "layout": {
          "annotationdefaults": {
           "arrowcolor": "#2a3f5f",
           "arrowhead": 0,
           "arrowwidth": 1
          },
          "autotypenumbers": "strict",
          "coloraxis": {
           "colorbar": {
            "outlinewidth": 0,
            "ticks": ""
           }
          },
          "colorscale": {
           "diverging": [
            [
             0,
             "#8e0152"
            ],
            [
             0.1,
             "#c51b7d"
            ],
            [
             0.2,
             "#de77ae"
            ],
            [
             0.3,
             "#f1b6da"
            ],
            [
             0.4,
             "#fde0ef"
            ],
            [
             0.5,
             "#f7f7f7"
            ],
            [
             0.6,
             "#e6f5d0"
            ],
            [
             0.7,
             "#b8e186"
            ],
            [
             0.8,
             "#7fbc41"
            ],
            [
             0.9,
             "#4d9221"
            ],
            [
             1,
             "#276419"
            ]
           ],
           "sequential": [
            [
             0,
             "#0d0887"
            ],
            [
             0.1111111111111111,
             "#46039f"
            ],
            [
             0.2222222222222222,
             "#7201a8"
            ],
            [
             0.3333333333333333,
             "#9c179e"
            ],
            [
             0.4444444444444444,
             "#bd3786"
            ],
            [
             0.5555555555555556,
             "#d8576b"
            ],
            [
             0.6666666666666666,
             "#ed7953"
            ],
            [
             0.7777777777777778,
             "#fb9f3a"
            ],
            [
             0.8888888888888888,
             "#fdca26"
            ],
            [
             1,
             "#f0f921"
            ]
           ],
           "sequentialminus": [
            [
             0,
             "#0d0887"
            ],
            [
             0.1111111111111111,
             "#46039f"
            ],
            [
             0.2222222222222222,
             "#7201a8"
            ],
            [
             0.3333333333333333,
             "#9c179e"
            ],
            [
             0.4444444444444444,
             "#bd3786"
            ],
            [
             0.5555555555555556,
             "#d8576b"
            ],
            [
             0.6666666666666666,
             "#ed7953"
            ],
            [
             0.7777777777777778,
             "#fb9f3a"
            ],
            [
             0.8888888888888888,
             "#fdca26"
            ],
            [
             1,
             "#f0f921"
            ]
           ]
          },
          "colorway": [
           "#636efa",
           "#EF553B",
           "#00cc96",
           "#ab63fa",
           "#FFA15A",
           "#19d3f3",
           "#FF6692",
           "#B6E880",
           "#FF97FF",
           "#FECB52"
          ],
          "font": {
           "color": "#2a3f5f"
          },
          "geo": {
           "bgcolor": "white",
           "lakecolor": "white",
           "landcolor": "#E5ECF6",
           "showlakes": true,
           "showland": true,
           "subunitcolor": "white"
          },
          "hoverlabel": {
           "align": "left"
          },
          "hovermode": "closest",
          "mapbox": {
           "style": "light"
          },
          "paper_bgcolor": "white",
          "plot_bgcolor": "#E5ECF6",
          "polar": {
           "angularaxis": {
            "gridcolor": "white",
            "linecolor": "white",
            "ticks": ""
           },
           "bgcolor": "#E5ECF6",
           "radialaxis": {
            "gridcolor": "white",
            "linecolor": "white",
            "ticks": ""
           }
          },
          "scene": {
           "xaxis": {
            "backgroundcolor": "#E5ECF6",
            "gridcolor": "white",
            "gridwidth": 2,
            "linecolor": "white",
            "showbackground": true,
            "ticks": "",
            "zerolinecolor": "white"
           },
           "yaxis": {
            "backgroundcolor": "#E5ECF6",
            "gridcolor": "white",
            "gridwidth": 2,
            "linecolor": "white",
            "showbackground": true,
            "ticks": "",
            "zerolinecolor": "white"
           },
           "zaxis": {
            "backgroundcolor": "#E5ECF6",
            "gridcolor": "white",
            "gridwidth": 2,
            "linecolor": "white",
            "showbackground": true,
            "ticks": "",
            "zerolinecolor": "white"
           }
          },
          "shapedefaults": {
           "line": {
            "color": "#2a3f5f"
           }
          },
          "ternary": {
           "aaxis": {
            "gridcolor": "white",
            "linecolor": "white",
            "ticks": ""
           },
           "baxis": {
            "gridcolor": "white",
            "linecolor": "white",
            "ticks": ""
           },
           "bgcolor": "#E5ECF6",
           "caxis": {
            "gridcolor": "white",
            "linecolor": "white",
            "ticks": ""
           }
          },
          "title": {
           "x": 0.05
          },
          "xaxis": {
           "automargin": true,
           "gridcolor": "white",
           "linecolor": "white",
           "ticks": "",
           "title": {
            "standoff": 15
           },
           "zerolinecolor": "white",
           "zerolinewidth": 2
          },
          "yaxis": {
           "automargin": true,
           "gridcolor": "white",
           "linecolor": "white",
           "ticks": "",
           "title": {
            "standoff": 15
           },
           "zerolinecolor": "white",
           "zerolinewidth": 2
          }
         }
        },
        "xaxis": {
         "anchor": "y",
         "domain": [
          0,
          0.7363
         ],
         "title": {
          "text": "2 AGN [%]"
         }
        },
        "xaxis2": {
         "anchor": "y2",
         "domain": [
          0.7413,
          1
         ],
         "matches": "x2",
         "showgrid": true,
         "showline": false,
         "showticklabels": false,
         "ticks": ""
        },
        "xaxis3": {
         "anchor": "y3",
         "domain": [
          0,
          0.7363
         ],
         "matches": "x",
         "showgrid": true,
         "showticklabels": false
        },
        "xaxis4": {
         "anchor": "y4",
         "domain": [
          0.7413,
          1
         ],
         "matches": "x2",
         "showgrid": true,
         "showline": false,
         "showticklabels": false,
         "ticks": ""
        },
        "yaxis": {
         "anchor": "x",
         "domain": [
          0,
          0.7326
         ],
         "title": {
          "text": "3 AGN [%]"
         }
        },
        "yaxis2": {
         "anchor": "x2",
         "domain": [
          0,
          0.7326
         ],
         "matches": "y",
         "showgrid": true,
         "showticklabels": false
        },
        "yaxis3": {
         "anchor": "x3",
         "domain": [
          0.7426,
          1
         ],
         "matches": "y3",
         "showgrid": true,
         "showline": false,
         "showticklabels": false,
         "ticks": ""
        },
        "yaxis4": {
         "anchor": "x4",
         "domain": [
          0.7426,
          1
         ],
         "matches": "y3",
         "showgrid": true,
         "showline": false,
         "showticklabels": false,
         "ticks": ""
        }
       }
      },
      "text/html": [
       "<div>                            <div id=\"1c057315-8e21-44de-b113-c8909d054453\" class=\"plotly-graph-div\" style=\"height:525px; width:100%;\"></div>            <script type=\"text/javascript\">                require([\"plotly\"], function(Plotly) {                    window.PLOTLYENV=window.PLOTLYENV || {};                                    if (document.getElementById(\"1c057315-8e21-44de-b113-c8909d054453\")) {                    Plotly.newPlot(                        \"1c057315-8e21-44de-b113-c8909d054453\",                        [{\"coloraxis\":\"coloraxis\",\"hovertemplate\":\"2 AGN [%]=%{x}<br>3 AGN [%]=%{y}<br>count=%{z}<extra></extra>\",\"name\":\"\",\"nbinsx\":5,\"nbinsy\":5,\"texttemplate\":\"%{z}\",\"x\":[52.5050100200401,52.304609218436894,100.0,100.0,82.76553106212423,100.0,100.0,40.88176352705409,40.88176352705409,100.0,100.0,100.0,100.0,100.0,100.0,100.0,60.52104208416838,97.1943887775551,60.52104208416838,97.1943887775551,100.0,100.0,100.0,100.0,100.0,100.0,100.0,100.0,100.0,100.0,99.79959919839679,100.0,100.0,100.0,17.835671342685394,89.37875751503,17.835671342685394,89.37875751503,100.0,100.0,100.0,100.0,99.79959919839679,100.0,100.0,99.59919839679358,100.0,100.0,100.0,100.0,100.0,100.0,95.19038076152304,100.0,99.39879759519037,100.0,100.0,100.0,100.0,100.0,100.0,67.33466933867734,100.0,100.0],\"xaxis\":\"x\",\"xbingroup\":\"x\",\"y\":[3.0060120240480703,3.0060120240480703,47.29458917835672,40.68136272545092,40.68136272545092,73.14629258517036,71.14228456913827,9.619238476953912,9.619238476953912,73.74749498997996,100.0,29.058116232464695,47.09418837675337,46.29258517034068,100.0,46.29258517034053,22.645290581162353,22.645290581162353,36.072144288577135,36.072144288577135,76.55310621242485,22.845691382765526,100.0,74.94989979959925,100.0,36.272545090180344,100.0,67.33466933867747,92.98597194388778,86.17234468937876,86.17234468937876,79.55911823647291,63.32665330661323,18.036072144288713,2.8056112224448606,2.8056112224448606,2.8056112224448606,2.8056112224448606,95.99198396793588,42.08416833667335,100.0,99.79959919839679,2.4048096192384416,98.79759519038078,93.3867735470942,70.14028056112221,70.14028056112221,69.93987975951904,100.0,25.851703406813446,15.2304609218436,100.0,61.32264529058118,99.59919839679358,58.717434869739485,12.024048096192354,92.78557114228457,54.30861723446895,100.0,55.91182364729459,75.95190380761525,23.64729458917836,99.79959919839679,91.98396793587177],\"yaxis\":\"y\",\"ybingroup\":\"y\",\"type\":\"histogram2d\"},{\"alignmentgroup\":\"True\",\"bingroup\":\"x\",\"hovertemplate\":\"2 AGN [%]=%{x}<br>count=%{y}<extra></extra>\",\"legendgroup\":\"\",\"marker\":{\"color\":\"#0d0887\"},\"name\":\"\",\"offsetgroup\":\"\",\"opacity\":0.5,\"showlegend\":false,\"x\":[52.5050100200401,52.304609218436894,100.0,100.0,82.76553106212423,100.0,100.0,40.88176352705409,40.88176352705409,100.0,100.0,100.0,100.0,100.0,100.0,100.0,60.52104208416838,97.1943887775551,60.52104208416838,97.1943887775551,100.0,100.0,100.0,100.0,100.0,100.0,100.0,100.0,100.0,100.0,99.79959919839679,100.0,100.0,100.0,17.835671342685394,89.37875751503,17.835671342685394,89.37875751503,100.0,100.0,100.0,100.0,99.79959919839679,100.0,100.0,99.59919839679358,100.0,100.0,100.0,100.0,100.0,100.0,95.19038076152304,100.0,99.39879759519037,100.0,100.0,100.0,100.0,100.0,100.0,67.33466933867734,100.0,100.0],\"xaxis\":\"x3\",\"yaxis\":\"y3\",\"type\":\"histogram\"},{\"alignmentgroup\":\"True\",\"bingroup\":\"y\",\"hovertemplate\":\"3 AGN [%]=%{y}<br>count=%{x}<extra></extra>\",\"legendgroup\":\"\",\"marker\":{\"color\":\"#0d0887\"},\"name\":\"\",\"offsetgroup\":\"\",\"opacity\":0.5,\"showlegend\":false,\"xaxis\":\"x2\",\"y\":[3.0060120240480703,3.0060120240480703,47.29458917835672,40.68136272545092,40.68136272545092,73.14629258517036,71.14228456913827,9.619238476953912,9.619238476953912,73.74749498997996,100.0,29.058116232464695,47.09418837675337,46.29258517034068,100.0,46.29258517034053,22.645290581162353,22.645290581162353,36.072144288577135,36.072144288577135,76.55310621242485,22.845691382765526,100.0,74.94989979959925,100.0,36.272545090180344,100.0,67.33466933867747,92.98597194388778,86.17234468937876,86.17234468937876,79.55911823647291,63.32665330661323,18.036072144288713,2.8056112224448606,2.8056112224448606,2.8056112224448606,2.8056112224448606,95.99198396793588,42.08416833667335,100.0,99.79959919839679,2.4048096192384416,98.79759519038078,93.3867735470942,70.14028056112221,70.14028056112221,69.93987975951904,100.0,25.851703406813446,15.2304609218436,100.0,61.32264529058118,99.59919839679358,58.717434869739485,12.024048096192354,92.78557114228457,54.30861723446895,100.0,55.91182364729459,75.95190380761525,23.64729458917836,99.79959919839679,91.98396793587177],\"yaxis\":\"y2\",\"type\":\"histogram\"}],                        {\"template\":{\"data\":{\"histogram2dcontour\":[{\"type\":\"histogram2dcontour\",\"colorbar\":{\"outlinewidth\":0,\"ticks\":\"\"},\"colorscale\":[[0.0,\"#0d0887\"],[0.1111111111111111,\"#46039f\"],[0.2222222222222222,\"#7201a8\"],[0.3333333333333333,\"#9c179e\"],[0.4444444444444444,\"#bd3786\"],[0.5555555555555556,\"#d8576b\"],[0.6666666666666666,\"#ed7953\"],[0.7777777777777778,\"#fb9f3a\"],[0.8888888888888888,\"#fdca26\"],[1.0,\"#f0f921\"]]}],\"choropleth\":[{\"type\":\"choropleth\",\"colorbar\":{\"outlinewidth\":0,\"ticks\":\"\"}}],\"histogram2d\":[{\"type\":\"histogram2d\",\"colorbar\":{\"outlinewidth\":0,\"ticks\":\"\"},\"colorscale\":[[0.0,\"#0d0887\"],[0.1111111111111111,\"#46039f\"],[0.2222222222222222,\"#7201a8\"],[0.3333333333333333,\"#9c179e\"],[0.4444444444444444,\"#bd3786\"],[0.5555555555555556,\"#d8576b\"],[0.6666666666666666,\"#ed7953\"],[0.7777777777777778,\"#fb9f3a\"],[0.8888888888888888,\"#fdca26\"],[1.0,\"#f0f921\"]]}],\"heatmap\":[{\"type\":\"heatmap\",\"colorbar\":{\"outlinewidth\":0,\"ticks\":\"\"},\"colorscale\":[[0.0,\"#0d0887\"],[0.1111111111111111,\"#46039f\"],[0.2222222222222222,\"#7201a8\"],[0.3333333333333333,\"#9c179e\"],[0.4444444444444444,\"#bd3786\"],[0.5555555555555556,\"#d8576b\"],[0.6666666666666666,\"#ed7953\"],[0.7777777777777778,\"#fb9f3a\"],[0.8888888888888888,\"#fdca26\"],[1.0,\"#f0f921\"]]}],\"heatmapgl\":[{\"type\":\"heatmapgl\",\"colorbar\":{\"outlinewidth\":0,\"ticks\":\"\"},\"colorscale\":[[0.0,\"#0d0887\"],[0.1111111111111111,\"#46039f\"],[0.2222222222222222,\"#7201a8\"],[0.3333333333333333,\"#9c179e\"],[0.4444444444444444,\"#bd3786\"],[0.5555555555555556,\"#d8576b\"],[0.6666666666666666,\"#ed7953\"],[0.7777777777777778,\"#fb9f3a\"],[0.8888888888888888,\"#fdca26\"],[1.0,\"#f0f921\"]]}],\"contourcarpet\":[{\"type\":\"contourcarpet\",\"colorbar\":{\"outlinewidth\":0,\"ticks\":\"\"}}],\"contour\":[{\"type\":\"contour\",\"colorbar\":{\"outlinewidth\":0,\"ticks\":\"\"},\"colorscale\":[[0.0,\"#0d0887\"],[0.1111111111111111,\"#46039f\"],[0.2222222222222222,\"#7201a8\"],[0.3333333333333333,\"#9c179e\"],[0.4444444444444444,\"#bd3786\"],[0.5555555555555556,\"#d8576b\"],[0.6666666666666666,\"#ed7953\"],[0.7777777777777778,\"#fb9f3a\"],[0.8888888888888888,\"#fdca26\"],[1.0,\"#f0f921\"]]}],\"surface\":[{\"type\":\"surface\",\"colorbar\":{\"outlinewidth\":0,\"ticks\":\"\"},\"colorscale\":[[0.0,\"#0d0887\"],[0.1111111111111111,\"#46039f\"],[0.2222222222222222,\"#7201a8\"],[0.3333333333333333,\"#9c179e\"],[0.4444444444444444,\"#bd3786\"],[0.5555555555555556,\"#d8576b\"],[0.6666666666666666,\"#ed7953\"],[0.7777777777777778,\"#fb9f3a\"],[0.8888888888888888,\"#fdca26\"],[1.0,\"#f0f921\"]]}],\"mesh3d\":[{\"type\":\"mesh3d\",\"colorbar\":{\"outlinewidth\":0,\"ticks\":\"\"}}],\"scatter\":[{\"fillpattern\":{\"fillmode\":\"overlay\",\"size\":10,\"solidity\":0.2},\"type\":\"scatter\"}],\"parcoords\":[{\"type\":\"parcoords\",\"line\":{\"colorbar\":{\"outlinewidth\":0,\"ticks\":\"\"}}}],\"scatterpolargl\":[{\"type\":\"scatterpolargl\",\"marker\":{\"colorbar\":{\"outlinewidth\":0,\"ticks\":\"\"}}}],\"bar\":[{\"error_x\":{\"color\":\"#2a3f5f\"},\"error_y\":{\"color\":\"#2a3f5f\"},\"marker\":{\"line\":{\"color\":\"#E5ECF6\",\"width\":0.5},\"pattern\":{\"fillmode\":\"overlay\",\"size\":10,\"solidity\":0.2}},\"type\":\"bar\"}],\"scattergeo\":[{\"type\":\"scattergeo\",\"marker\":{\"colorbar\":{\"outlinewidth\":0,\"ticks\":\"\"}}}],\"scatterpolar\":[{\"type\":\"scatterpolar\",\"marker\":{\"colorbar\":{\"outlinewidth\":0,\"ticks\":\"\"}}}],\"histogram\":[{\"marker\":{\"pattern\":{\"fillmode\":\"overlay\",\"size\":10,\"solidity\":0.2}},\"type\":\"histogram\"}],\"scattergl\":[{\"type\":\"scattergl\",\"marker\":{\"colorbar\":{\"outlinewidth\":0,\"ticks\":\"\"}}}],\"scatter3d\":[{\"type\":\"scatter3d\",\"line\":{\"colorbar\":{\"outlinewidth\":0,\"ticks\":\"\"}},\"marker\":{\"colorbar\":{\"outlinewidth\":0,\"ticks\":\"\"}}}],\"scattermapbox\":[{\"type\":\"scattermapbox\",\"marker\":{\"colorbar\":{\"outlinewidth\":0,\"ticks\":\"\"}}}],\"scatterternary\":[{\"type\":\"scatterternary\",\"marker\":{\"colorbar\":{\"outlinewidth\":0,\"ticks\":\"\"}}}],\"scattercarpet\":[{\"type\":\"scattercarpet\",\"marker\":{\"colorbar\":{\"outlinewidth\":0,\"ticks\":\"\"}}}],\"carpet\":[{\"aaxis\":{\"endlinecolor\":\"#2a3f5f\",\"gridcolor\":\"white\",\"linecolor\":\"white\",\"minorgridcolor\":\"white\",\"startlinecolor\":\"#2a3f5f\"},\"baxis\":{\"endlinecolor\":\"#2a3f5f\",\"gridcolor\":\"white\",\"linecolor\":\"white\",\"minorgridcolor\":\"white\",\"startlinecolor\":\"#2a3f5f\"},\"type\":\"carpet\"}],\"table\":[{\"cells\":{\"fill\":{\"color\":\"#EBF0F8\"},\"line\":{\"color\":\"white\"}},\"header\":{\"fill\":{\"color\":\"#C8D4E3\"},\"line\":{\"color\":\"white\"}},\"type\":\"table\"}],\"barpolar\":[{\"marker\":{\"line\":{\"color\":\"#E5ECF6\",\"width\":0.5},\"pattern\":{\"fillmode\":\"overlay\",\"size\":10,\"solidity\":0.2}},\"type\":\"barpolar\"}],\"pie\":[{\"automargin\":true,\"type\":\"pie\"}]},\"layout\":{\"autotypenumbers\":\"strict\",\"colorway\":[\"#636efa\",\"#EF553B\",\"#00cc96\",\"#ab63fa\",\"#FFA15A\",\"#19d3f3\",\"#FF6692\",\"#B6E880\",\"#FF97FF\",\"#FECB52\"],\"font\":{\"color\":\"#2a3f5f\"},\"hovermode\":\"closest\",\"hoverlabel\":{\"align\":\"left\"},\"paper_bgcolor\":\"white\",\"plot_bgcolor\":\"#E5ECF6\",\"polar\":{\"bgcolor\":\"#E5ECF6\",\"angularaxis\":{\"gridcolor\":\"white\",\"linecolor\":\"white\",\"ticks\":\"\"},\"radialaxis\":{\"gridcolor\":\"white\",\"linecolor\":\"white\",\"ticks\":\"\"}},\"ternary\":{\"bgcolor\":\"#E5ECF6\",\"aaxis\":{\"gridcolor\":\"white\",\"linecolor\":\"white\",\"ticks\":\"\"},\"baxis\":{\"gridcolor\":\"white\",\"linecolor\":\"white\",\"ticks\":\"\"},\"caxis\":{\"gridcolor\":\"white\",\"linecolor\":\"white\",\"ticks\":\"\"}},\"coloraxis\":{\"colorbar\":{\"outlinewidth\":0,\"ticks\":\"\"}},\"colorscale\":{\"sequential\":[[0.0,\"#0d0887\"],[0.1111111111111111,\"#46039f\"],[0.2222222222222222,\"#7201a8\"],[0.3333333333333333,\"#9c179e\"],[0.4444444444444444,\"#bd3786\"],[0.5555555555555556,\"#d8576b\"],[0.6666666666666666,\"#ed7953\"],[0.7777777777777778,\"#fb9f3a\"],[0.8888888888888888,\"#fdca26\"],[1.0,\"#f0f921\"]],\"sequentialminus\":[[0.0,\"#0d0887\"],[0.1111111111111111,\"#46039f\"],[0.2222222222222222,\"#7201a8\"],[0.3333333333333333,\"#9c179e\"],[0.4444444444444444,\"#bd3786\"],[0.5555555555555556,\"#d8576b\"],[0.6666666666666666,\"#ed7953\"],[0.7777777777777778,\"#fb9f3a\"],[0.8888888888888888,\"#fdca26\"],[1.0,\"#f0f921\"]],\"diverging\":[[0,\"#8e0152\"],[0.1,\"#c51b7d\"],[0.2,\"#de77ae\"],[0.3,\"#f1b6da\"],[0.4,\"#fde0ef\"],[0.5,\"#f7f7f7\"],[0.6,\"#e6f5d0\"],[0.7,\"#b8e186\"],[0.8,\"#7fbc41\"],[0.9,\"#4d9221\"],[1,\"#276419\"]]},\"xaxis\":{\"gridcolor\":\"white\",\"linecolor\":\"white\",\"ticks\":\"\",\"title\":{\"standoff\":15},\"zerolinecolor\":\"white\",\"automargin\":true,\"zerolinewidth\":2},\"yaxis\":{\"gridcolor\":\"white\",\"linecolor\":\"white\",\"ticks\":\"\",\"title\":{\"standoff\":15},\"zerolinecolor\":\"white\",\"automargin\":true,\"zerolinewidth\":2},\"scene\":{\"xaxis\":{\"backgroundcolor\":\"#E5ECF6\",\"gridcolor\":\"white\",\"linecolor\":\"white\",\"showbackground\":true,\"ticks\":\"\",\"zerolinecolor\":\"white\",\"gridwidth\":2},\"yaxis\":{\"backgroundcolor\":\"#E5ECF6\",\"gridcolor\":\"white\",\"linecolor\":\"white\",\"showbackground\":true,\"ticks\":\"\",\"zerolinecolor\":\"white\",\"gridwidth\":2},\"zaxis\":{\"backgroundcolor\":\"#E5ECF6\",\"gridcolor\":\"white\",\"linecolor\":\"white\",\"showbackground\":true,\"ticks\":\"\",\"zerolinecolor\":\"white\",\"gridwidth\":2}},\"shapedefaults\":{\"line\":{\"color\":\"#2a3f5f\"}},\"annotationdefaults\":{\"arrowcolor\":\"#2a3f5f\",\"arrowhead\":0,\"arrowwidth\":1},\"geo\":{\"bgcolor\":\"white\",\"landcolor\":\"#E5ECF6\",\"subunitcolor\":\"white\",\"showland\":true,\"showlakes\":true,\"lakecolor\":\"white\"},\"title\":{\"x\":0.05},\"mapbox\":{\"style\":\"light\"}}},\"xaxis\":{\"anchor\":\"y\",\"domain\":[0.0,0.7363],\"title\":{\"text\":\"2 AGN [%]\"}},\"yaxis\":{\"anchor\":\"x\",\"domain\":[0.0,0.7326],\"title\":{\"text\":\"3 AGN [%]\"}},\"xaxis2\":{\"anchor\":\"y2\",\"domain\":[0.7413,1.0],\"matches\":\"x2\",\"showticklabels\":false,\"showline\":false,\"ticks\":\"\",\"showgrid\":true},\"yaxis2\":{\"anchor\":\"x2\",\"domain\":[0.0,0.7326],\"matches\":\"y\",\"showticklabels\":false,\"showgrid\":true},\"xaxis3\":{\"anchor\":\"y3\",\"domain\":[0.0,0.7363],\"matches\":\"x\",\"showticklabels\":false,\"showgrid\":true},\"yaxis3\":{\"anchor\":\"x3\",\"domain\":[0.7426,1.0],\"matches\":\"y3\",\"showticklabels\":false,\"showline\":false,\"ticks\":\"\",\"showgrid\":true},\"xaxis4\":{\"anchor\":\"y4\",\"domain\":[0.7413,1.0],\"matches\":\"x2\",\"showticklabels\":false,\"showgrid\":true,\"showline\":false,\"ticks\":\"\"},\"yaxis4\":{\"anchor\":\"x4\",\"domain\":[0.7426,1.0],\"matches\":\"y3\",\"showticklabels\":false,\"showline\":false,\"ticks\":\"\",\"showgrid\":true},\"coloraxis\":{\"colorbar\":{\"title\":{\"text\":\"count\"}},\"colorscale\":[[0.0,\"#0d0887\"],[0.1111111111111111,\"#46039f\"],[0.2222222222222222,\"#7201a8\"],[0.3333333333333333,\"#9c179e\"],[0.4444444444444444,\"#bd3786\"],[0.5555555555555556,\"#d8576b\"],[0.6666666666666666,\"#ed7953\"],[0.7777777777777778,\"#fb9f3a\"],[0.8888888888888888,\"#fdca26\"],[1.0,\"#f0f921\"]]},\"legend\":{\"tracegroupgap\":0},\"margin\":{\"t\":60},\"barmode\":\"overlay\"},                        {\"responsive\": true}                    ).then(function(){\n",
       "                            \n",
       "var gd = document.getElementById('1c057315-8e21-44de-b113-c8909d054453');\n",
       "var x = new MutationObserver(function (mutations, observer) {{\n",
       "        var display = window.getComputedStyle(gd).display;\n",
       "        if (!display || display === 'none') {{\n",
       "            console.log([gd, 'removed!']);\n",
       "            Plotly.purge(gd);\n",
       "            observer.disconnect();\n",
       "        }}\n",
       "}});\n",
       "\n",
       "// Listen for the removal of the full notebook cells\n",
       "var notebookContainer = gd.closest('#notebook-container');\n",
       "if (notebookContainer) {{\n",
       "    x.observe(notebookContainer, {childList: true});\n",
       "}}\n",
       "\n",
       "// Listen for the clearing of the current output cell\n",
       "var outputEl = gd.closest('.output');\n",
       "if (outputEl) {{\n",
       "    x.observe(outputEl, {childList: true});\n",
       "}}\n",
       "\n",
       "                        })                };                });            </script>        </div>"
      ]
     },
     "metadata": {},
     "output_type": "display_data"
    }
   ],
   "source": [
    "fig = px.density_heatmap(trips_z3_dr200_perc_df, x=\"Perc2\", y=\"Perc3\",text_auto=True,nbinsx=5,nbinsy=5,\n",
    "                         labels={\n",
    "                           \"Perc2\": \"2 AGN [%]\",\n",
    "                           \"Perc3\": \"3 AGN [%]\"  \n",
    "                         },\n",
    "                         marginal_x=\"histogram\",marginal_y=\"histogram\")\n",
    "\n",
    "fig.show()"
   ]
  },
  {
   "cell_type": "code",
   "execution_count": 18,
   "metadata": {},
   "outputs": [
    {
     "data": {
      "application/vnd.plotly.v1+json": {
       "config": {
        "plotlyServerURL": "https://plot.ly"
       },
       "data": [
        {
         "coloraxis": "coloraxis",
         "hovertemplate": "2 AGN [%]=%{x}<br>3 AGN [%]=%{y}<br>count=%{z}<extra></extra>",
         "name": "",
         "nbinsx": 5,
         "nbinsy": 5,
         "texttemplate": "%{z}",
         "type": "histogram2d",
         "x": [
          87.17434869739478,
          64.92985971943895,
          63.72745490981951,
          50.901803607214276,
          97.99599198396791,
          100,
          97.39478957915824,
          99.79959919839679,
          76.35270541082171,
          100,
          81.56312625250501,
          100,
          100,
          99.39879759519042,
          77.15430861723458,
          99.79959919839679,
          76.75350701402803,
          35.27054108216437,
          98.99799599198398,
          100,
          86.17234468937876,
          100,
          69.13827655310631,
          96.3927855711423,
          52.5050100200401,
          52.304609218436894,
          100,
          100,
          82.76553106212423,
          100,
          100,
          40.88176352705409,
          40.88176352705409,
          100,
          100,
          100,
          100,
          100,
          100,
          100,
          60.52104208416838,
          97.1943887775551,
          60.52104208416838,
          97.1943887775551,
          100,
          100,
          100,
          100,
          100,
          100,
          100,
          100,
          100,
          100,
          99.79959919839679,
          100,
          100,
          100,
          17.835671342685394,
          89.37875751503,
          17.835671342685394,
          89.37875751503,
          100,
          100,
          100,
          100,
          99.79959919839679,
          100,
          100,
          99.59919839679358,
          100,
          100,
          100,
          100,
          100,
          100,
          95.19038076152304,
          100,
          99.39879759519037,
          100,
          100,
          100,
          100,
          100,
          100,
          67.33466933867734,
          100,
          100
         ],
         "xaxis": "x",
         "xbingroup": "x",
         "y": [
          3.0060120240480703,
          17.835671342685394,
          32.86573146292589,
          41.68336673346693,
          1.6032064128256764,
          89.77955911823642,
          82.36472945891775,
          9.619238476953912,
          39.67935871743491,
          96.19238476953913,
          47.895791583166314,
          34.669338677354595,
          99.39879759519042,
          82.7655310621243,
          19.839679358717454,
          2.2044088176352687,
          58.917835671342665,
          3.20641282565128,
          57.31462925851702,
          43.08617234468936,
          4.809619238476956,
          75.55110220440879,
          21.442885771542986,
          29.05811623246491,
          3.0060120240480703,
          3.0060120240480703,
          47.29458917835672,
          40.68136272545092,
          40.68136272545092,
          73.14629258517036,
          71.14228456913827,
          9.619238476953912,
          9.619238476953912,
          73.74749498997996,
          100,
          29.058116232464695,
          47.09418837675337,
          46.29258517034068,
          100,
          46.29258517034053,
          22.645290581162353,
          22.645290581162353,
          36.072144288577135,
          36.072144288577135,
          76.55310621242485,
          22.845691382765526,
          100,
          74.94989979959925,
          100,
          36.272545090180344,
          100,
          67.33466933867747,
          92.98597194388778,
          86.17234468937876,
          86.17234468937876,
          79.55911823647291,
          63.32665330661323,
          18.036072144288713,
          2.8056112224448606,
          2.8056112224448606,
          2.8056112224448606,
          2.8056112224448606,
          95.99198396793588,
          42.08416833667335,
          100,
          99.79959919839679,
          2.4048096192384416,
          98.79759519038078,
          93.3867735470942,
          70.14028056112221,
          70.14028056112221,
          69.93987975951904,
          100,
          25.851703406813446,
          15.2304609218436,
          100,
          61.32264529058118,
          99.59919839679358,
          58.717434869739485,
          12.024048096192354,
          92.78557114228457,
          54.30861723446895,
          100,
          55.91182364729459,
          75.95190380761525,
          23.64729458917836,
          99.79959919839679,
          91.98396793587177
         ],
         "yaxis": "y",
         "ybingroup": "y"
        },
        {
         "alignmentgroup": "True",
         "bingroup": "x",
         "hovertemplate": "2 AGN [%]=%{x}<br>count=%{y}<extra></extra>",
         "legendgroup": "",
         "marker": {
          "color": "#0d0887"
         },
         "name": "",
         "offsetgroup": "",
         "opacity": 0.5,
         "showlegend": false,
         "type": "histogram",
         "x": [
          87.17434869739478,
          64.92985971943895,
          63.72745490981951,
          50.901803607214276,
          97.99599198396791,
          100,
          97.39478957915824,
          99.79959919839679,
          76.35270541082171,
          100,
          81.56312625250501,
          100,
          100,
          99.39879759519042,
          77.15430861723458,
          99.79959919839679,
          76.75350701402803,
          35.27054108216437,
          98.99799599198398,
          100,
          86.17234468937876,
          100,
          69.13827655310631,
          96.3927855711423,
          52.5050100200401,
          52.304609218436894,
          100,
          100,
          82.76553106212423,
          100,
          100,
          40.88176352705409,
          40.88176352705409,
          100,
          100,
          100,
          100,
          100,
          100,
          100,
          60.52104208416838,
          97.1943887775551,
          60.52104208416838,
          97.1943887775551,
          100,
          100,
          100,
          100,
          100,
          100,
          100,
          100,
          100,
          100,
          99.79959919839679,
          100,
          100,
          100,
          17.835671342685394,
          89.37875751503,
          17.835671342685394,
          89.37875751503,
          100,
          100,
          100,
          100,
          99.79959919839679,
          100,
          100,
          99.59919839679358,
          100,
          100,
          100,
          100,
          100,
          100,
          95.19038076152304,
          100,
          99.39879759519037,
          100,
          100,
          100,
          100,
          100,
          100,
          67.33466933867734,
          100,
          100
         ],
         "xaxis": "x3",
         "yaxis": "y3"
        },
        {
         "alignmentgroup": "True",
         "bingroup": "y",
         "hovertemplate": "3 AGN [%]=%{y}<br>count=%{x}<extra></extra>",
         "legendgroup": "",
         "marker": {
          "color": "#0d0887"
         },
         "name": "",
         "offsetgroup": "",
         "opacity": 0.5,
         "showlegend": false,
         "type": "histogram",
         "xaxis": "x2",
         "y": [
          3.0060120240480703,
          17.835671342685394,
          32.86573146292589,
          41.68336673346693,
          1.6032064128256764,
          89.77955911823642,
          82.36472945891775,
          9.619238476953912,
          39.67935871743491,
          96.19238476953913,
          47.895791583166314,
          34.669338677354595,
          99.39879759519042,
          82.7655310621243,
          19.839679358717454,
          2.2044088176352687,
          58.917835671342665,
          3.20641282565128,
          57.31462925851702,
          43.08617234468936,
          4.809619238476956,
          75.55110220440879,
          21.442885771542986,
          29.05811623246491,
          3.0060120240480703,
          3.0060120240480703,
          47.29458917835672,
          40.68136272545092,
          40.68136272545092,
          73.14629258517036,
          71.14228456913827,
          9.619238476953912,
          9.619238476953912,
          73.74749498997996,
          100,
          29.058116232464695,
          47.09418837675337,
          46.29258517034068,
          100,
          46.29258517034053,
          22.645290581162353,
          22.645290581162353,
          36.072144288577135,
          36.072144288577135,
          76.55310621242485,
          22.845691382765526,
          100,
          74.94989979959925,
          100,
          36.272545090180344,
          100,
          67.33466933867747,
          92.98597194388778,
          86.17234468937876,
          86.17234468937876,
          79.55911823647291,
          63.32665330661323,
          18.036072144288713,
          2.8056112224448606,
          2.8056112224448606,
          2.8056112224448606,
          2.8056112224448606,
          95.99198396793588,
          42.08416833667335,
          100,
          99.79959919839679,
          2.4048096192384416,
          98.79759519038078,
          93.3867735470942,
          70.14028056112221,
          70.14028056112221,
          69.93987975951904,
          100,
          25.851703406813446,
          15.2304609218436,
          100,
          61.32264529058118,
          99.59919839679358,
          58.717434869739485,
          12.024048096192354,
          92.78557114228457,
          54.30861723446895,
          100,
          55.91182364729459,
          75.95190380761525,
          23.64729458917836,
          99.79959919839679,
          91.98396793587177
         ],
         "yaxis": "y2"
        }
       ],
       "layout": {
        "barmode": "overlay",
        "coloraxis": {
         "colorbar": {
          "title": {
           "text": "count"
          }
         },
         "colorscale": [
          [
           0,
           "#0d0887"
          ],
          [
           0.1111111111111111,
           "#46039f"
          ],
          [
           0.2222222222222222,
           "#7201a8"
          ],
          [
           0.3333333333333333,
           "#9c179e"
          ],
          [
           0.4444444444444444,
           "#bd3786"
          ],
          [
           0.5555555555555556,
           "#d8576b"
          ],
          [
           0.6666666666666666,
           "#ed7953"
          ],
          [
           0.7777777777777778,
           "#fb9f3a"
          ],
          [
           0.8888888888888888,
           "#fdca26"
          ],
          [
           1,
           "#f0f921"
          ]
         ]
        },
        "legend": {
         "tracegroupgap": 0
        },
        "margin": {
         "t": 60
        },
        "template": {
         "data": {
          "bar": [
           {
            "error_x": {
             "color": "#2a3f5f"
            },
            "error_y": {
             "color": "#2a3f5f"
            },
            "marker": {
             "line": {
              "color": "#E5ECF6",
              "width": 0.5
             },
             "pattern": {
              "fillmode": "overlay",
              "size": 10,
              "solidity": 0.2
             }
            },
            "type": "bar"
           }
          ],
          "barpolar": [
           {
            "marker": {
             "line": {
              "color": "#E5ECF6",
              "width": 0.5
             },
             "pattern": {
              "fillmode": "overlay",
              "size": 10,
              "solidity": 0.2
             }
            },
            "type": "barpolar"
           }
          ],
          "carpet": [
           {
            "aaxis": {
             "endlinecolor": "#2a3f5f",
             "gridcolor": "white",
             "linecolor": "white",
             "minorgridcolor": "white",
             "startlinecolor": "#2a3f5f"
            },
            "baxis": {
             "endlinecolor": "#2a3f5f",
             "gridcolor": "white",
             "linecolor": "white",
             "minorgridcolor": "white",
             "startlinecolor": "#2a3f5f"
            },
            "type": "carpet"
           }
          ],
          "choropleth": [
           {
            "colorbar": {
             "outlinewidth": 0,
             "ticks": ""
            },
            "type": "choropleth"
           }
          ],
          "contour": [
           {
            "colorbar": {
             "outlinewidth": 0,
             "ticks": ""
            },
            "colorscale": [
             [
              0,
              "#0d0887"
             ],
             [
              0.1111111111111111,
              "#46039f"
             ],
             [
              0.2222222222222222,
              "#7201a8"
             ],
             [
              0.3333333333333333,
              "#9c179e"
             ],
             [
              0.4444444444444444,
              "#bd3786"
             ],
             [
              0.5555555555555556,
              "#d8576b"
             ],
             [
              0.6666666666666666,
              "#ed7953"
             ],
             [
              0.7777777777777778,
              "#fb9f3a"
             ],
             [
              0.8888888888888888,
              "#fdca26"
             ],
             [
              1,
              "#f0f921"
             ]
            ],
            "type": "contour"
           }
          ],
          "contourcarpet": [
           {
            "colorbar": {
             "outlinewidth": 0,
             "ticks": ""
            },
            "type": "contourcarpet"
           }
          ],
          "heatmap": [
           {
            "colorbar": {
             "outlinewidth": 0,
             "ticks": ""
            },
            "colorscale": [
             [
              0,
              "#0d0887"
             ],
             [
              0.1111111111111111,
              "#46039f"
             ],
             [
              0.2222222222222222,
              "#7201a8"
             ],
             [
              0.3333333333333333,
              "#9c179e"
             ],
             [
              0.4444444444444444,
              "#bd3786"
             ],
             [
              0.5555555555555556,
              "#d8576b"
             ],
             [
              0.6666666666666666,
              "#ed7953"
             ],
             [
              0.7777777777777778,
              "#fb9f3a"
             ],
             [
              0.8888888888888888,
              "#fdca26"
             ],
             [
              1,
              "#f0f921"
             ]
            ],
            "type": "heatmap"
           }
          ],
          "heatmapgl": [
           {
            "colorbar": {
             "outlinewidth": 0,
             "ticks": ""
            },
            "colorscale": [
             [
              0,
              "#0d0887"
             ],
             [
              0.1111111111111111,
              "#46039f"
             ],
             [
              0.2222222222222222,
              "#7201a8"
             ],
             [
              0.3333333333333333,
              "#9c179e"
             ],
             [
              0.4444444444444444,
              "#bd3786"
             ],
             [
              0.5555555555555556,
              "#d8576b"
             ],
             [
              0.6666666666666666,
              "#ed7953"
             ],
             [
              0.7777777777777778,
              "#fb9f3a"
             ],
             [
              0.8888888888888888,
              "#fdca26"
             ],
             [
              1,
              "#f0f921"
             ]
            ],
            "type": "heatmapgl"
           }
          ],
          "histogram": [
           {
            "marker": {
             "pattern": {
              "fillmode": "overlay",
              "size": 10,
              "solidity": 0.2
             }
            },
            "type": "histogram"
           }
          ],
          "histogram2d": [
           {
            "colorbar": {
             "outlinewidth": 0,
             "ticks": ""
            },
            "colorscale": [
             [
              0,
              "#0d0887"
             ],
             [
              0.1111111111111111,
              "#46039f"
             ],
             [
              0.2222222222222222,
              "#7201a8"
             ],
             [
              0.3333333333333333,
              "#9c179e"
             ],
             [
              0.4444444444444444,
              "#bd3786"
             ],
             [
              0.5555555555555556,
              "#d8576b"
             ],
             [
              0.6666666666666666,
              "#ed7953"
             ],
             [
              0.7777777777777778,
              "#fb9f3a"
             ],
             [
              0.8888888888888888,
              "#fdca26"
             ],
             [
              1,
              "#f0f921"
             ]
            ],
            "type": "histogram2d"
           }
          ],
          "histogram2dcontour": [
           {
            "colorbar": {
             "outlinewidth": 0,
             "ticks": ""
            },
            "colorscale": [
             [
              0,
              "#0d0887"
             ],
             [
              0.1111111111111111,
              "#46039f"
             ],
             [
              0.2222222222222222,
              "#7201a8"
             ],
             [
              0.3333333333333333,
              "#9c179e"
             ],
             [
              0.4444444444444444,
              "#bd3786"
             ],
             [
              0.5555555555555556,
              "#d8576b"
             ],
             [
              0.6666666666666666,
              "#ed7953"
             ],
             [
              0.7777777777777778,
              "#fb9f3a"
             ],
             [
              0.8888888888888888,
              "#fdca26"
             ],
             [
              1,
              "#f0f921"
             ]
            ],
            "type": "histogram2dcontour"
           }
          ],
          "mesh3d": [
           {
            "colorbar": {
             "outlinewidth": 0,
             "ticks": ""
            },
            "type": "mesh3d"
           }
          ],
          "parcoords": [
           {
            "line": {
             "colorbar": {
              "outlinewidth": 0,
              "ticks": ""
             }
            },
            "type": "parcoords"
           }
          ],
          "pie": [
           {
            "automargin": true,
            "type": "pie"
           }
          ],
          "scatter": [
           {
            "fillpattern": {
             "fillmode": "overlay",
             "size": 10,
             "solidity": 0.2
            },
            "type": "scatter"
           }
          ],
          "scatter3d": [
           {
            "line": {
             "colorbar": {
              "outlinewidth": 0,
              "ticks": ""
             }
            },
            "marker": {
             "colorbar": {
              "outlinewidth": 0,
              "ticks": ""
             }
            },
            "type": "scatter3d"
           }
          ],
          "scattercarpet": [
           {
            "marker": {
             "colorbar": {
              "outlinewidth": 0,
              "ticks": ""
             }
            },
            "type": "scattercarpet"
           }
          ],
          "scattergeo": [
           {
            "marker": {
             "colorbar": {
              "outlinewidth": 0,
              "ticks": ""
             }
            },
            "type": "scattergeo"
           }
          ],
          "scattergl": [
           {
            "marker": {
             "colorbar": {
              "outlinewidth": 0,
              "ticks": ""
             }
            },
            "type": "scattergl"
           }
          ],
          "scattermapbox": [
           {
            "marker": {
             "colorbar": {
              "outlinewidth": 0,
              "ticks": ""
             }
            },
            "type": "scattermapbox"
           }
          ],
          "scatterpolar": [
           {
            "marker": {
             "colorbar": {
              "outlinewidth": 0,
              "ticks": ""
             }
            },
            "type": "scatterpolar"
           }
          ],
          "scatterpolargl": [
           {
            "marker": {
             "colorbar": {
              "outlinewidth": 0,
              "ticks": ""
             }
            },
            "type": "scatterpolargl"
           }
          ],
          "scatterternary": [
           {
            "marker": {
             "colorbar": {
              "outlinewidth": 0,
              "ticks": ""
             }
            },
            "type": "scatterternary"
           }
          ],
          "surface": [
           {
            "colorbar": {
             "outlinewidth": 0,
             "ticks": ""
            },
            "colorscale": [
             [
              0,
              "#0d0887"
             ],
             [
              0.1111111111111111,
              "#46039f"
             ],
             [
              0.2222222222222222,
              "#7201a8"
             ],
             [
              0.3333333333333333,
              "#9c179e"
             ],
             [
              0.4444444444444444,
              "#bd3786"
             ],
             [
              0.5555555555555556,
              "#d8576b"
             ],
             [
              0.6666666666666666,
              "#ed7953"
             ],
             [
              0.7777777777777778,
              "#fb9f3a"
             ],
             [
              0.8888888888888888,
              "#fdca26"
             ],
             [
              1,
              "#f0f921"
             ]
            ],
            "type": "surface"
           }
          ],
          "table": [
           {
            "cells": {
             "fill": {
              "color": "#EBF0F8"
             },
             "line": {
              "color": "white"
             }
            },
            "header": {
             "fill": {
              "color": "#C8D4E3"
             },
             "line": {
              "color": "white"
             }
            },
            "type": "table"
           }
          ]
         },
         "layout": {
          "annotationdefaults": {
           "arrowcolor": "#2a3f5f",
           "arrowhead": 0,
           "arrowwidth": 1
          },
          "autotypenumbers": "strict",
          "coloraxis": {
           "colorbar": {
            "outlinewidth": 0,
            "ticks": ""
           }
          },
          "colorscale": {
           "diverging": [
            [
             0,
             "#8e0152"
            ],
            [
             0.1,
             "#c51b7d"
            ],
            [
             0.2,
             "#de77ae"
            ],
            [
             0.3,
             "#f1b6da"
            ],
            [
             0.4,
             "#fde0ef"
            ],
            [
             0.5,
             "#f7f7f7"
            ],
            [
             0.6,
             "#e6f5d0"
            ],
            [
             0.7,
             "#b8e186"
            ],
            [
             0.8,
             "#7fbc41"
            ],
            [
             0.9,
             "#4d9221"
            ],
            [
             1,
             "#276419"
            ]
           ],
           "sequential": [
            [
             0,
             "#0d0887"
            ],
            [
             0.1111111111111111,
             "#46039f"
            ],
            [
             0.2222222222222222,
             "#7201a8"
            ],
            [
             0.3333333333333333,
             "#9c179e"
            ],
            [
             0.4444444444444444,
             "#bd3786"
            ],
            [
             0.5555555555555556,
             "#d8576b"
            ],
            [
             0.6666666666666666,
             "#ed7953"
            ],
            [
             0.7777777777777778,
             "#fb9f3a"
            ],
            [
             0.8888888888888888,
             "#fdca26"
            ],
            [
             1,
             "#f0f921"
            ]
           ],
           "sequentialminus": [
            [
             0,
             "#0d0887"
            ],
            [
             0.1111111111111111,
             "#46039f"
            ],
            [
             0.2222222222222222,
             "#7201a8"
            ],
            [
             0.3333333333333333,
             "#9c179e"
            ],
            [
             0.4444444444444444,
             "#bd3786"
            ],
            [
             0.5555555555555556,
             "#d8576b"
            ],
            [
             0.6666666666666666,
             "#ed7953"
            ],
            [
             0.7777777777777778,
             "#fb9f3a"
            ],
            [
             0.8888888888888888,
             "#fdca26"
            ],
            [
             1,
             "#f0f921"
            ]
           ]
          },
          "colorway": [
           "#636efa",
           "#EF553B",
           "#00cc96",
           "#ab63fa",
           "#FFA15A",
           "#19d3f3",
           "#FF6692",
           "#B6E880",
           "#FF97FF",
           "#FECB52"
          ],
          "font": {
           "color": "#2a3f5f"
          },
          "geo": {
           "bgcolor": "white",
           "lakecolor": "white",
           "landcolor": "#E5ECF6",
           "showlakes": true,
           "showland": true,
           "subunitcolor": "white"
          },
          "hoverlabel": {
           "align": "left"
          },
          "hovermode": "closest",
          "mapbox": {
           "style": "light"
          },
          "paper_bgcolor": "white",
          "plot_bgcolor": "#E5ECF6",
          "polar": {
           "angularaxis": {
            "gridcolor": "white",
            "linecolor": "white",
            "ticks": ""
           },
           "bgcolor": "#E5ECF6",
           "radialaxis": {
            "gridcolor": "white",
            "linecolor": "white",
            "ticks": ""
           }
          },
          "scene": {
           "xaxis": {
            "backgroundcolor": "#E5ECF6",
            "gridcolor": "white",
            "gridwidth": 2,
            "linecolor": "white",
            "showbackground": true,
            "ticks": "",
            "zerolinecolor": "white"
           },
           "yaxis": {
            "backgroundcolor": "#E5ECF6",
            "gridcolor": "white",
            "gridwidth": 2,
            "linecolor": "white",
            "showbackground": true,
            "ticks": "",
            "zerolinecolor": "white"
           },
           "zaxis": {
            "backgroundcolor": "#E5ECF6",
            "gridcolor": "white",
            "gridwidth": 2,
            "linecolor": "white",
            "showbackground": true,
            "ticks": "",
            "zerolinecolor": "white"
           }
          },
          "shapedefaults": {
           "line": {
            "color": "#2a3f5f"
           }
          },
          "ternary": {
           "aaxis": {
            "gridcolor": "white",
            "linecolor": "white",
            "ticks": ""
           },
           "baxis": {
            "gridcolor": "white",
            "linecolor": "white",
            "ticks": ""
           },
           "bgcolor": "#E5ECF6",
           "caxis": {
            "gridcolor": "white",
            "linecolor": "white",
            "ticks": ""
           }
          },
          "title": {
           "x": 0.05
          },
          "xaxis": {
           "automargin": true,
           "gridcolor": "white",
           "linecolor": "white",
           "ticks": "",
           "title": {
            "standoff": 15
           },
           "zerolinecolor": "white",
           "zerolinewidth": 2
          },
          "yaxis": {
           "automargin": true,
           "gridcolor": "white",
           "linecolor": "white",
           "ticks": "",
           "title": {
            "standoff": 15
           },
           "zerolinecolor": "white",
           "zerolinewidth": 2
          }
         }
        },
        "xaxis": {
         "anchor": "y",
         "domain": [
          0,
          0.7363
         ],
         "title": {
          "text": "2 AGN [%]"
         }
        },
        "xaxis2": {
         "anchor": "y2",
         "domain": [
          0.7413,
          1
         ],
         "matches": "x2",
         "showgrid": true,
         "showline": false,
         "showticklabels": false,
         "ticks": ""
        },
        "xaxis3": {
         "anchor": "y3",
         "domain": [
          0,
          0.7363
         ],
         "matches": "x",
         "showgrid": true,
         "showticklabels": false
        },
        "xaxis4": {
         "anchor": "y4",
         "domain": [
          0.7413,
          1
         ],
         "matches": "x2",
         "showgrid": true,
         "showline": false,
         "showticklabels": false,
         "ticks": ""
        },
        "yaxis": {
         "anchor": "x",
         "domain": [
          0,
          0.7326
         ],
         "title": {
          "text": "3 AGN [%]"
         }
        },
        "yaxis2": {
         "anchor": "x2",
         "domain": [
          0,
          0.7326
         ],
         "matches": "y",
         "showgrid": true,
         "showticklabels": false
        },
        "yaxis3": {
         "anchor": "x3",
         "domain": [
          0.7426,
          1
         ],
         "matches": "y3",
         "showgrid": true,
         "showline": false,
         "showticklabels": false,
         "ticks": ""
        },
        "yaxis4": {
         "anchor": "x4",
         "domain": [
          0.7426,
          1
         ],
         "matches": "y3",
         "showgrid": true,
         "showline": false,
         "showticklabels": false,
         "ticks": ""
        }
       }
      },
      "text/html": [
       "<div>                            <div id=\"f59f829f-9d4a-4d1e-b293-488817990374\" class=\"plotly-graph-div\" style=\"height:525px; width:100%;\"></div>            <script type=\"text/javascript\">                require([\"plotly\"], function(Plotly) {                    window.PLOTLYENV=window.PLOTLYENV || {};                                    if (document.getElementById(\"f59f829f-9d4a-4d1e-b293-488817990374\")) {                    Plotly.newPlot(                        \"f59f829f-9d4a-4d1e-b293-488817990374\",                        [{\"coloraxis\":\"coloraxis\",\"hovertemplate\":\"2 AGN [%]=%{x}<br>3 AGN [%]=%{y}<br>count=%{z}<extra></extra>\",\"name\":\"\",\"nbinsx\":5,\"nbinsy\":5,\"texttemplate\":\"%{z}\",\"x\":[87.17434869739478,64.92985971943895,63.72745490981951,50.901803607214276,97.99599198396791,100.0,97.39478957915824,99.79959919839679,76.35270541082171,100.0,81.56312625250501,100.0,100.0,99.39879759519042,77.15430861723458,99.79959919839679,76.75350701402803,35.27054108216437,98.99799599198398,100.0,86.17234468937876,100.0,69.13827655310631,96.3927855711423,52.5050100200401,52.304609218436894,100.0,100.0,82.76553106212423,100.0,100.0,40.88176352705409,40.88176352705409,100.0,100.0,100.0,100.0,100.0,100.0,100.0,60.52104208416838,97.1943887775551,60.52104208416838,97.1943887775551,100.0,100.0,100.0,100.0,100.0,100.0,100.0,100.0,100.0,100.0,99.79959919839679,100.0,100.0,100.0,17.835671342685394,89.37875751503,17.835671342685394,89.37875751503,100.0,100.0,100.0,100.0,99.79959919839679,100.0,100.0,99.59919839679358,100.0,100.0,100.0,100.0,100.0,100.0,95.19038076152304,100.0,99.39879759519037,100.0,100.0,100.0,100.0,100.0,100.0,67.33466933867734,100.0,100.0],\"xaxis\":\"x\",\"xbingroup\":\"x\",\"y\":[3.0060120240480703,17.835671342685394,32.86573146292589,41.68336673346693,1.6032064128256764,89.77955911823642,82.36472945891775,9.619238476953912,39.67935871743491,96.19238476953913,47.895791583166314,34.669338677354595,99.39879759519042,82.7655310621243,19.839679358717454,2.2044088176352687,58.917835671342665,3.20641282565128,57.31462925851702,43.08617234468936,4.809619238476956,75.55110220440879,21.442885771542986,29.05811623246491,3.0060120240480703,3.0060120240480703,47.29458917835672,40.68136272545092,40.68136272545092,73.14629258517036,71.14228456913827,9.619238476953912,9.619238476953912,73.74749498997996,100.0,29.058116232464695,47.09418837675337,46.29258517034068,100.0,46.29258517034053,22.645290581162353,22.645290581162353,36.072144288577135,36.072144288577135,76.55310621242485,22.845691382765526,100.0,74.94989979959925,100.0,36.272545090180344,100.0,67.33466933867747,92.98597194388778,86.17234468937876,86.17234468937876,79.55911823647291,63.32665330661323,18.036072144288713,2.8056112224448606,2.8056112224448606,2.8056112224448606,2.8056112224448606,95.99198396793588,42.08416833667335,100.0,99.79959919839679,2.4048096192384416,98.79759519038078,93.3867735470942,70.14028056112221,70.14028056112221,69.93987975951904,100.0,25.851703406813446,15.2304609218436,100.0,61.32264529058118,99.59919839679358,58.717434869739485,12.024048096192354,92.78557114228457,54.30861723446895,100.0,55.91182364729459,75.95190380761525,23.64729458917836,99.79959919839679,91.98396793587177],\"yaxis\":\"y\",\"ybingroup\":\"y\",\"type\":\"histogram2d\"},{\"alignmentgroup\":\"True\",\"bingroup\":\"x\",\"hovertemplate\":\"2 AGN [%]=%{x}<br>count=%{y}<extra></extra>\",\"legendgroup\":\"\",\"marker\":{\"color\":\"#0d0887\"},\"name\":\"\",\"offsetgroup\":\"\",\"opacity\":0.5,\"showlegend\":false,\"x\":[87.17434869739478,64.92985971943895,63.72745490981951,50.901803607214276,97.99599198396791,100.0,97.39478957915824,99.79959919839679,76.35270541082171,100.0,81.56312625250501,100.0,100.0,99.39879759519042,77.15430861723458,99.79959919839679,76.75350701402803,35.27054108216437,98.99799599198398,100.0,86.17234468937876,100.0,69.13827655310631,96.3927855711423,52.5050100200401,52.304609218436894,100.0,100.0,82.76553106212423,100.0,100.0,40.88176352705409,40.88176352705409,100.0,100.0,100.0,100.0,100.0,100.0,100.0,60.52104208416838,97.1943887775551,60.52104208416838,97.1943887775551,100.0,100.0,100.0,100.0,100.0,100.0,100.0,100.0,100.0,100.0,99.79959919839679,100.0,100.0,100.0,17.835671342685394,89.37875751503,17.835671342685394,89.37875751503,100.0,100.0,100.0,100.0,99.79959919839679,100.0,100.0,99.59919839679358,100.0,100.0,100.0,100.0,100.0,100.0,95.19038076152304,100.0,99.39879759519037,100.0,100.0,100.0,100.0,100.0,100.0,67.33466933867734,100.0,100.0],\"xaxis\":\"x3\",\"yaxis\":\"y3\",\"type\":\"histogram\"},{\"alignmentgroup\":\"True\",\"bingroup\":\"y\",\"hovertemplate\":\"3 AGN [%]=%{y}<br>count=%{x}<extra></extra>\",\"legendgroup\":\"\",\"marker\":{\"color\":\"#0d0887\"},\"name\":\"\",\"offsetgroup\":\"\",\"opacity\":0.5,\"showlegend\":false,\"xaxis\":\"x2\",\"y\":[3.0060120240480703,17.835671342685394,32.86573146292589,41.68336673346693,1.6032064128256764,89.77955911823642,82.36472945891775,9.619238476953912,39.67935871743491,96.19238476953913,47.895791583166314,34.669338677354595,99.39879759519042,82.7655310621243,19.839679358717454,2.2044088176352687,58.917835671342665,3.20641282565128,57.31462925851702,43.08617234468936,4.809619238476956,75.55110220440879,21.442885771542986,29.05811623246491,3.0060120240480703,3.0060120240480703,47.29458917835672,40.68136272545092,40.68136272545092,73.14629258517036,71.14228456913827,9.619238476953912,9.619238476953912,73.74749498997996,100.0,29.058116232464695,47.09418837675337,46.29258517034068,100.0,46.29258517034053,22.645290581162353,22.645290581162353,36.072144288577135,36.072144288577135,76.55310621242485,22.845691382765526,100.0,74.94989979959925,100.0,36.272545090180344,100.0,67.33466933867747,92.98597194388778,86.17234468937876,86.17234468937876,79.55911823647291,63.32665330661323,18.036072144288713,2.8056112224448606,2.8056112224448606,2.8056112224448606,2.8056112224448606,95.99198396793588,42.08416833667335,100.0,99.79959919839679,2.4048096192384416,98.79759519038078,93.3867735470942,70.14028056112221,70.14028056112221,69.93987975951904,100.0,25.851703406813446,15.2304609218436,100.0,61.32264529058118,99.59919839679358,58.717434869739485,12.024048096192354,92.78557114228457,54.30861723446895,100.0,55.91182364729459,75.95190380761525,23.64729458917836,99.79959919839679,91.98396793587177],\"yaxis\":\"y2\",\"type\":\"histogram\"}],                        {\"template\":{\"data\":{\"histogram2dcontour\":[{\"type\":\"histogram2dcontour\",\"colorbar\":{\"outlinewidth\":0,\"ticks\":\"\"},\"colorscale\":[[0.0,\"#0d0887\"],[0.1111111111111111,\"#46039f\"],[0.2222222222222222,\"#7201a8\"],[0.3333333333333333,\"#9c179e\"],[0.4444444444444444,\"#bd3786\"],[0.5555555555555556,\"#d8576b\"],[0.6666666666666666,\"#ed7953\"],[0.7777777777777778,\"#fb9f3a\"],[0.8888888888888888,\"#fdca26\"],[1.0,\"#f0f921\"]]}],\"choropleth\":[{\"type\":\"choropleth\",\"colorbar\":{\"outlinewidth\":0,\"ticks\":\"\"}}],\"histogram2d\":[{\"type\":\"histogram2d\",\"colorbar\":{\"outlinewidth\":0,\"ticks\":\"\"},\"colorscale\":[[0.0,\"#0d0887\"],[0.1111111111111111,\"#46039f\"],[0.2222222222222222,\"#7201a8\"],[0.3333333333333333,\"#9c179e\"],[0.4444444444444444,\"#bd3786\"],[0.5555555555555556,\"#d8576b\"],[0.6666666666666666,\"#ed7953\"],[0.7777777777777778,\"#fb9f3a\"],[0.8888888888888888,\"#fdca26\"],[1.0,\"#f0f921\"]]}],\"heatmap\":[{\"type\":\"heatmap\",\"colorbar\":{\"outlinewidth\":0,\"ticks\":\"\"},\"colorscale\":[[0.0,\"#0d0887\"],[0.1111111111111111,\"#46039f\"],[0.2222222222222222,\"#7201a8\"],[0.3333333333333333,\"#9c179e\"],[0.4444444444444444,\"#bd3786\"],[0.5555555555555556,\"#d8576b\"],[0.6666666666666666,\"#ed7953\"],[0.7777777777777778,\"#fb9f3a\"],[0.8888888888888888,\"#fdca26\"],[1.0,\"#f0f921\"]]}],\"heatmapgl\":[{\"type\":\"heatmapgl\",\"colorbar\":{\"outlinewidth\":0,\"ticks\":\"\"},\"colorscale\":[[0.0,\"#0d0887\"],[0.1111111111111111,\"#46039f\"],[0.2222222222222222,\"#7201a8\"],[0.3333333333333333,\"#9c179e\"],[0.4444444444444444,\"#bd3786\"],[0.5555555555555556,\"#d8576b\"],[0.6666666666666666,\"#ed7953\"],[0.7777777777777778,\"#fb9f3a\"],[0.8888888888888888,\"#fdca26\"],[1.0,\"#f0f921\"]]}],\"contourcarpet\":[{\"type\":\"contourcarpet\",\"colorbar\":{\"outlinewidth\":0,\"ticks\":\"\"}}],\"contour\":[{\"type\":\"contour\",\"colorbar\":{\"outlinewidth\":0,\"ticks\":\"\"},\"colorscale\":[[0.0,\"#0d0887\"],[0.1111111111111111,\"#46039f\"],[0.2222222222222222,\"#7201a8\"],[0.3333333333333333,\"#9c179e\"],[0.4444444444444444,\"#bd3786\"],[0.5555555555555556,\"#d8576b\"],[0.6666666666666666,\"#ed7953\"],[0.7777777777777778,\"#fb9f3a\"],[0.8888888888888888,\"#fdca26\"],[1.0,\"#f0f921\"]]}],\"surface\":[{\"type\":\"surface\",\"colorbar\":{\"outlinewidth\":0,\"ticks\":\"\"},\"colorscale\":[[0.0,\"#0d0887\"],[0.1111111111111111,\"#46039f\"],[0.2222222222222222,\"#7201a8\"],[0.3333333333333333,\"#9c179e\"],[0.4444444444444444,\"#bd3786\"],[0.5555555555555556,\"#d8576b\"],[0.6666666666666666,\"#ed7953\"],[0.7777777777777778,\"#fb9f3a\"],[0.8888888888888888,\"#fdca26\"],[1.0,\"#f0f921\"]]}],\"mesh3d\":[{\"type\":\"mesh3d\",\"colorbar\":{\"outlinewidth\":0,\"ticks\":\"\"}}],\"scatter\":[{\"fillpattern\":{\"fillmode\":\"overlay\",\"size\":10,\"solidity\":0.2},\"type\":\"scatter\"}],\"parcoords\":[{\"type\":\"parcoords\",\"line\":{\"colorbar\":{\"outlinewidth\":0,\"ticks\":\"\"}}}],\"scatterpolargl\":[{\"type\":\"scatterpolargl\",\"marker\":{\"colorbar\":{\"outlinewidth\":0,\"ticks\":\"\"}}}],\"bar\":[{\"error_x\":{\"color\":\"#2a3f5f\"},\"error_y\":{\"color\":\"#2a3f5f\"},\"marker\":{\"line\":{\"color\":\"#E5ECF6\",\"width\":0.5},\"pattern\":{\"fillmode\":\"overlay\",\"size\":10,\"solidity\":0.2}},\"type\":\"bar\"}],\"scattergeo\":[{\"type\":\"scattergeo\",\"marker\":{\"colorbar\":{\"outlinewidth\":0,\"ticks\":\"\"}}}],\"scatterpolar\":[{\"type\":\"scatterpolar\",\"marker\":{\"colorbar\":{\"outlinewidth\":0,\"ticks\":\"\"}}}],\"histogram\":[{\"marker\":{\"pattern\":{\"fillmode\":\"overlay\",\"size\":10,\"solidity\":0.2}},\"type\":\"histogram\"}],\"scattergl\":[{\"type\":\"scattergl\",\"marker\":{\"colorbar\":{\"outlinewidth\":0,\"ticks\":\"\"}}}],\"scatter3d\":[{\"type\":\"scatter3d\",\"line\":{\"colorbar\":{\"outlinewidth\":0,\"ticks\":\"\"}},\"marker\":{\"colorbar\":{\"outlinewidth\":0,\"ticks\":\"\"}}}],\"scattermapbox\":[{\"type\":\"scattermapbox\",\"marker\":{\"colorbar\":{\"outlinewidth\":0,\"ticks\":\"\"}}}],\"scatterternary\":[{\"type\":\"scatterternary\",\"marker\":{\"colorbar\":{\"outlinewidth\":0,\"ticks\":\"\"}}}],\"scattercarpet\":[{\"type\":\"scattercarpet\",\"marker\":{\"colorbar\":{\"outlinewidth\":0,\"ticks\":\"\"}}}],\"carpet\":[{\"aaxis\":{\"endlinecolor\":\"#2a3f5f\",\"gridcolor\":\"white\",\"linecolor\":\"white\",\"minorgridcolor\":\"white\",\"startlinecolor\":\"#2a3f5f\"},\"baxis\":{\"endlinecolor\":\"#2a3f5f\",\"gridcolor\":\"white\",\"linecolor\":\"white\",\"minorgridcolor\":\"white\",\"startlinecolor\":\"#2a3f5f\"},\"type\":\"carpet\"}],\"table\":[{\"cells\":{\"fill\":{\"color\":\"#EBF0F8\"},\"line\":{\"color\":\"white\"}},\"header\":{\"fill\":{\"color\":\"#C8D4E3\"},\"line\":{\"color\":\"white\"}},\"type\":\"table\"}],\"barpolar\":[{\"marker\":{\"line\":{\"color\":\"#E5ECF6\",\"width\":0.5},\"pattern\":{\"fillmode\":\"overlay\",\"size\":10,\"solidity\":0.2}},\"type\":\"barpolar\"}],\"pie\":[{\"automargin\":true,\"type\":\"pie\"}]},\"layout\":{\"autotypenumbers\":\"strict\",\"colorway\":[\"#636efa\",\"#EF553B\",\"#00cc96\",\"#ab63fa\",\"#FFA15A\",\"#19d3f3\",\"#FF6692\",\"#B6E880\",\"#FF97FF\",\"#FECB52\"],\"font\":{\"color\":\"#2a3f5f\"},\"hovermode\":\"closest\",\"hoverlabel\":{\"align\":\"left\"},\"paper_bgcolor\":\"white\",\"plot_bgcolor\":\"#E5ECF6\",\"polar\":{\"bgcolor\":\"#E5ECF6\",\"angularaxis\":{\"gridcolor\":\"white\",\"linecolor\":\"white\",\"ticks\":\"\"},\"radialaxis\":{\"gridcolor\":\"white\",\"linecolor\":\"white\",\"ticks\":\"\"}},\"ternary\":{\"bgcolor\":\"#E5ECF6\",\"aaxis\":{\"gridcolor\":\"white\",\"linecolor\":\"white\",\"ticks\":\"\"},\"baxis\":{\"gridcolor\":\"white\",\"linecolor\":\"white\",\"ticks\":\"\"},\"caxis\":{\"gridcolor\":\"white\",\"linecolor\":\"white\",\"ticks\":\"\"}},\"coloraxis\":{\"colorbar\":{\"outlinewidth\":0,\"ticks\":\"\"}},\"colorscale\":{\"sequential\":[[0.0,\"#0d0887\"],[0.1111111111111111,\"#46039f\"],[0.2222222222222222,\"#7201a8\"],[0.3333333333333333,\"#9c179e\"],[0.4444444444444444,\"#bd3786\"],[0.5555555555555556,\"#d8576b\"],[0.6666666666666666,\"#ed7953\"],[0.7777777777777778,\"#fb9f3a\"],[0.8888888888888888,\"#fdca26\"],[1.0,\"#f0f921\"]],\"sequentialminus\":[[0.0,\"#0d0887\"],[0.1111111111111111,\"#46039f\"],[0.2222222222222222,\"#7201a8\"],[0.3333333333333333,\"#9c179e\"],[0.4444444444444444,\"#bd3786\"],[0.5555555555555556,\"#d8576b\"],[0.6666666666666666,\"#ed7953\"],[0.7777777777777778,\"#fb9f3a\"],[0.8888888888888888,\"#fdca26\"],[1.0,\"#f0f921\"]],\"diverging\":[[0,\"#8e0152\"],[0.1,\"#c51b7d\"],[0.2,\"#de77ae\"],[0.3,\"#f1b6da\"],[0.4,\"#fde0ef\"],[0.5,\"#f7f7f7\"],[0.6,\"#e6f5d0\"],[0.7,\"#b8e186\"],[0.8,\"#7fbc41\"],[0.9,\"#4d9221\"],[1,\"#276419\"]]},\"xaxis\":{\"gridcolor\":\"white\",\"linecolor\":\"white\",\"ticks\":\"\",\"title\":{\"standoff\":15},\"zerolinecolor\":\"white\",\"automargin\":true,\"zerolinewidth\":2},\"yaxis\":{\"gridcolor\":\"white\",\"linecolor\":\"white\",\"ticks\":\"\",\"title\":{\"standoff\":15},\"zerolinecolor\":\"white\",\"automargin\":true,\"zerolinewidth\":2},\"scene\":{\"xaxis\":{\"backgroundcolor\":\"#E5ECF6\",\"gridcolor\":\"white\",\"linecolor\":\"white\",\"showbackground\":true,\"ticks\":\"\",\"zerolinecolor\":\"white\",\"gridwidth\":2},\"yaxis\":{\"backgroundcolor\":\"#E5ECF6\",\"gridcolor\":\"white\",\"linecolor\":\"white\",\"showbackground\":true,\"ticks\":\"\",\"zerolinecolor\":\"white\",\"gridwidth\":2},\"zaxis\":{\"backgroundcolor\":\"#E5ECF6\",\"gridcolor\":\"white\",\"linecolor\":\"white\",\"showbackground\":true,\"ticks\":\"\",\"zerolinecolor\":\"white\",\"gridwidth\":2}},\"shapedefaults\":{\"line\":{\"color\":\"#2a3f5f\"}},\"annotationdefaults\":{\"arrowcolor\":\"#2a3f5f\",\"arrowhead\":0,\"arrowwidth\":1},\"geo\":{\"bgcolor\":\"white\",\"landcolor\":\"#E5ECF6\",\"subunitcolor\":\"white\",\"showland\":true,\"showlakes\":true,\"lakecolor\":\"white\"},\"title\":{\"x\":0.05},\"mapbox\":{\"style\":\"light\"}}},\"xaxis\":{\"anchor\":\"y\",\"domain\":[0.0,0.7363],\"title\":{\"text\":\"2 AGN [%]\"}},\"yaxis\":{\"anchor\":\"x\",\"domain\":[0.0,0.7326],\"title\":{\"text\":\"3 AGN [%]\"}},\"xaxis2\":{\"anchor\":\"y2\",\"domain\":[0.7413,1.0],\"matches\":\"x2\",\"showticklabels\":false,\"showline\":false,\"ticks\":\"\",\"showgrid\":true},\"yaxis2\":{\"anchor\":\"x2\",\"domain\":[0.0,0.7326],\"matches\":\"y\",\"showticklabels\":false,\"showgrid\":true},\"xaxis3\":{\"anchor\":\"y3\",\"domain\":[0.0,0.7363],\"matches\":\"x\",\"showticklabels\":false,\"showgrid\":true},\"yaxis3\":{\"anchor\":\"x3\",\"domain\":[0.7426,1.0],\"matches\":\"y3\",\"showticklabels\":false,\"showline\":false,\"ticks\":\"\",\"showgrid\":true},\"xaxis4\":{\"anchor\":\"y4\",\"domain\":[0.7413,1.0],\"matches\":\"x2\",\"showticklabels\":false,\"showgrid\":true,\"showline\":false,\"ticks\":\"\"},\"yaxis4\":{\"anchor\":\"x4\",\"domain\":[0.7426,1.0],\"matches\":\"y3\",\"showticklabels\":false,\"showline\":false,\"ticks\":\"\",\"showgrid\":true},\"coloraxis\":{\"colorbar\":{\"title\":{\"text\":\"count\"}},\"colorscale\":[[0.0,\"#0d0887\"],[0.1111111111111111,\"#46039f\"],[0.2222222222222222,\"#7201a8\"],[0.3333333333333333,\"#9c179e\"],[0.4444444444444444,\"#bd3786\"],[0.5555555555555556,\"#d8576b\"],[0.6666666666666666,\"#ed7953\"],[0.7777777777777778,\"#fb9f3a\"],[0.8888888888888888,\"#fdca26\"],[1.0,\"#f0f921\"]]},\"legend\":{\"tracegroupgap\":0},\"margin\":{\"t\":60},\"barmode\":\"overlay\"},                        {\"responsive\": true}                    ).then(function(){\n",
       "                            \n",
       "var gd = document.getElementById('f59f829f-9d4a-4d1e-b293-488817990374');\n",
       "var x = new MutationObserver(function (mutations, observer) {{\n",
       "        var display = window.getComputedStyle(gd).display;\n",
       "        if (!display || display === 'none') {{\n",
       "            console.log([gd, 'removed!']);\n",
       "            Plotly.purge(gd);\n",
       "            observer.disconnect();\n",
       "        }}\n",
       "}});\n",
       "\n",
       "// Listen for the removal of the full notebook cells\n",
       "var notebookContainer = gd.closest('#notebook-container');\n",
       "if (notebookContainer) {{\n",
       "    x.observe(notebookContainer, {childList: true});\n",
       "}}\n",
       "\n",
       "// Listen for the clearing of the current output cell\n",
       "var outputEl = gd.closest('.output');\n",
       "if (outputEl) {{\n",
       "    x.observe(outputEl, {childList: true});\n",
       "}}\n",
       "\n",
       "                        })                };                });            </script>        </div>"
      ]
     },
     "metadata": {},
     "output_type": "display_data"
    }
   ],
   "source": [
    "fig = px.density_heatmap(trips_z3_perc_df, x=\"Perc2\", y=\"Perc3\",text_auto=True,nbinsx=5,nbinsy=5,\n",
    "                         labels={\n",
    "                           \"Perc2\": \"2 AGN [%]\",\n",
    "                           \"Perc3\": \"3 AGN [%]\"  \n",
    "                         },\n",
    "                         marginal_x=\"histogram\",marginal_y=\"histogram\")\n",
    "\n",
    "fig.show()"
   ]
  },
  {
   "cell_type": "code",
   "execution_count": null,
   "metadata": {},
   "outputs": [],
   "source": []
  }
 ],
 "metadata": {
  "kernelspec": {
   "display_name": "Python 3",
   "language": "python",
   "name": "python3"
  },
  "language_info": {
   "codemirror_mode": {
    "name": "ipython",
    "version": 3
   },
   "file_extension": ".py",
   "mimetype": "text/x-python",
   "name": "python",
   "nbconvert_exporter": "python",
   "pygments_lexer": "ipython3",
   "version": "3.8.3"
  }
 },
 "nbformat": 4,
 "nbformat_minor": 4
}
